{
  "nbformat": 4,
  "nbformat_minor": 0,
  "metadata": {
    "colab": {
      "provenance": [],
      "toc_visible": true
    },
    "kernelspec": {
      "name": "python3",
      "display_name": "Python 3"
    },
    "language_info": {
      "name": "python"
    }
  },
  "cells": [
    {
      "cell_type": "markdown",
      "source": [
        "# Learning outcome"
      ],
      "metadata": {
        "id": "rQQAUHymTQEs"
      }
    },
    {
      "cell_type": "markdown",
      "source": [
        "### 1. Farmiliar with Jupyter Notebook enviorment\n",
        "### 2. Learn how to use shortcouts, understanbd variables\n",
        "### 3. Learn to use arithematic operations\n",
        "### 4. Learn to use if, while and for loops"
      ],
      "metadata": {
        "id": "ChQacCnbTdQk"
      }
    },
    {
      "cell_type": "markdown",
      "source": [
        "# 1. Some shortcuts"
      ],
      "metadata": {
        "id": "NXJB7F8GYbos"
      }
    },
    {
      "cell_type": "markdown",
      "source": [
        "Control+M M will convert a code cell to a text cell.\\\n",
        "Control+M Y will convert a text cell to a code cell.\\\n",
        "+Code to add a line of code.\\\n",
        "+Text to add a line of text.\\\n",
        "Press Upper + Enter to execute"
      ],
      "metadata": {
        "id": "gqeRTYSEYjvC"
      }
    },
    {
      "cell_type": "markdown",
      "source": [
        "# 2. Variables (integer, float, string and boolean)"
      ],
      "metadata": {
        "id": "fGfV1bAGTveO"
      }
    },
    {
      "cell_type": "code",
      "source": [
        "price =10 #price is an intenger\n",
        "print(price) #to print out the variable\n",
        "type(price) #using type() to find the types of variable"
      ],
      "metadata": {
        "colab": {
          "base_uri": "https://localhost:8080/"
        },
        "id": "imhX5W3kUB6Q",
        "outputId": "90a647dc-025a-4758-ef47-03907e937816"
      },
      "execution_count": null,
      "outputs": [
        {
          "output_type": "stream",
          "name": "stdout",
          "text": [
            "10\n"
          ]
        },
        {
          "output_type": "execute_result",
          "data": {
            "text/plain": [
              "int"
            ]
          },
          "metadata": {},
          "execution_count": 2
        }
      ]
    },
    {
      "cell_type": "code",
      "source": [
        "rate =4.9 #rate is a float(a number with a decimal point)\n",
        "print(rate) #to print out the variable\n",
        "type(rate) #using type() to find the types of variable"
      ],
      "metadata": {
        "colab": {
          "base_uri": "https://localhost:8080/"
        },
        "id": "7nsLudnQZ6st",
        "outputId": "b73a9862-66cb-4bcc-a8a1-109d8b1d7948"
      },
      "execution_count": null,
      "outputs": [
        {
          "output_type": "stream",
          "name": "stdout",
          "text": [
            "4.9\n"
          ]
        },
        {
          "output_type": "execute_result",
          "data": {
            "text/plain": [
              "float"
            ]
          },
          "metadata": {},
          "execution_count": 3
        }
      ]
    },
    {
      "cell_type": "code",
      "source": [
        "course_name = 'CMT Data Science' # course name is string (a sequence of characters), must use '_' to link the words\n",
        "print(course_name) #to print out the variable\n",
        "type(course_name) #using type() to find the types of variable"
      ],
      "metadata": {
        "id": "3QCQakmwaOQM"
      },
      "execution_count": null,
      "outputs": []
    },
    {
      "cell_type": "code",
      "source": [
        "registered=True #registered is a boolean. Blooean values only can be True or False\n",
        "print(registered) #to rpint out the variable\n",
        "type(registered) #using type() to find the types of variable"
      ],
      "metadata": {
        "id": "wzoTK7KTaP-s"
      },
      "execution_count": null,
      "outputs": []
    },
    {
      "cell_type": "markdown",
      "source": [
        "# Comments"
      ],
      "metadata": {
        "id": "fecZ3ThZabqE"
      }
    },
    {
      "cell_type": "markdown",
      "source": [
        "We use comments to add notes to our code. Good comments explain the hows and whys, not what the code does. That should be reflected in the code itself. Use\n",
        "comments to add reminders to yourself or other developers, or also explain your assumptions and the reasons you’ve written code in a certain way. #This is a comment and it won’t get executed. \\\n",
        "\n",
        "Type '#' and a space and a text can creat headings"
      ],
      "metadata": {
        "id": "BhFsk9VOadwc"
      }
    },
    {
      "cell_type": "markdown",
      "source": [
        "# 3. Arithmetic operation"
      ],
      "metadata": {
        "id": "7GphyHyFa2xz"
      }
    },
    {
      "cell_type": "code",
      "source": [
        "#We can input the first number\n",
        "input_1=float(input('X_1=')) \n",
        "#The input() function always returns data as a string. \n",
        "#So we are coverting the result into a float by calling the build\n",
        "#You can use type(input_1) to check the type of data"
      ],
      "metadata": {
        "colab": {
          "base_uri": "https://localhost:8080/"
        },
        "id": "OfwRA9VTbHT9",
        "outputId": "7c3df0ed-0ba4-4bdf-ea95-b7138662c2ab"
      },
      "execution_count": null,
      "outputs": [
        {
          "name": "stdout",
          "output_type": "stream",
          "text": [
            "X_1=13\n"
          ]
        }
      ]
    },
    {
      "cell_type": "code",
      "source": [
        "#We can input the second number\n",
        "input_2=int(input('X_2=')) \n",
        "#The input() function always returns data as a string. \n",
        "#So we are coverting the result into a float by calling the build\n",
        "#You can use type(input_2) to check the type of data"
      ],
      "metadata": {
        "colab": {
          "base_uri": "https://localhost:8080/"
        },
        "id": "irLqsobObX0M",
        "outputId": "8896560a-7907-4f75-e3c9-6eecff8ab62b"
      },
      "execution_count": null,
      "outputs": [
        {
          "name": "stdout",
          "output_type": "stream",
          "text": [
            "X_2=5\n"
          ]
        }
      ]
    },
    {
      "cell_type": "markdown",
      "source": [
        "### Addition, subtraction and multiplication , use \"+\", \"-\" and \"*\" respectivly"
      ],
      "metadata": {
        "id": "CX5RaYgCbkwc"
      }
    },
    {
      "cell_type": "code",
      "source": [
        "answer_1=input_1+input_2\n",
        "print('answer_1=',answer_1) #here input_1 is a float, input_2 is an integer, the answer is a float"
      ],
      "metadata": {
        "colab": {
          "base_uri": "https://localhost:8080/"
        },
        "id": "tcUy3BtSb3nk",
        "outputId": "118e9ebb-b386-4be0-9b5e-eb61df5937fd"
      },
      "execution_count": null,
      "outputs": [
        {
          "output_type": "stream",
          "name": "stdout",
          "text": [
            "answer_1= 36.0\n"
          ]
        }
      ]
    },
    {
      "cell_type": "code",
      "source": [
        "#alternatively,\n",
        "a=3+5\n",
        "a"
      ],
      "metadata": {
        "colab": {
          "base_uri": "https://localhost:8080/"
        },
        "id": "f9C231HQebuA",
        "outputId": "9934cbd2-8796-47ab-b027-86702c7c5af5"
      },
      "execution_count": null,
      "outputs": [
        {
          "output_type": "execute_result",
          "data": {
            "text/plain": [
              "8"
            ]
          },
          "metadata": {},
          "execution_count": 10
        }
      ]
    },
    {
      "cell_type": "code",
      "source": [
        "answer_2=input_1-input_2\n",
        "print('answer_2=',answer_2)"
      ],
      "metadata": {
        "id": "jknQlLZAeu9K"
      },
      "execution_count": null,
      "outputs": []
    },
    {
      "cell_type": "code",
      "source": [
        "#alternatively,\n",
        "b=3-5\n",
        "b"
      ],
      "metadata": {
        "id": "5vCJRLY_fouz"
      },
      "execution_count": null,
      "outputs": []
    },
    {
      "cell_type": "code",
      "source": [
        "answer_3=input_1*input_2\n",
        "print('answer_3=',answer_3)"
      ],
      "metadata": {
        "id": "0x-JHOZxgFNh"
      },
      "execution_count": null,
      "outputs": []
    },
    {
      "cell_type": "code",
      "source": [
        "#alternatively,\n",
        "c=3*5\n",
        "c"
      ],
      "metadata": {
        "id": "5YmrZZYZgHwS"
      },
      "execution_count": null,
      "outputs": []
    },
    {
      "cell_type": "code",
      "source": [
        "#alternatively,\n",
        "c=3*'not'\n",
        "c"
      ],
      "metadata": {
        "colab": {
          "base_uri": "https://localhost:8080/",
          "height": 35
        },
        "id": "vSVwgBuEgN0B",
        "outputId": "15f76dc3-bf85-496c-b2eb-680f05a37c32"
      },
      "execution_count": null,
      "outputs": [
        {
          "output_type": "execute_result",
          "data": {
            "text/plain": [
              "'notnotnot'"
            ],
            "application/vnd.google.colaboratory.intrinsic+json": {
              "type": "string"
            }
          },
          "metadata": {},
          "execution_count": 12
        }
      ]
    },
    {
      "cell_type": "markdown",
      "source": [
        "### For division, use \"/\" (returns a float),  \"//\" (returns an int) and  \"%\" (returns the remainder of division)"
      ],
      "metadata": {
        "id": "Qq5vz48ngRjI"
      }
    },
    {
      "cell_type": "code",
      "source": [
        "answer_4=input_1/input_2\n",
        "print('answer_4=',answer_4) #The 'answer' is a string, the variable name"
      ],
      "metadata": {
        "colab": {
          "base_uri": "https://localhost:8080/"
        },
        "id": "9aQgW8lBgh3c",
        "outputId": "6b55b9ae-af1a-4b3f-b5c8-cd8ff425269c"
      },
      "execution_count": null,
      "outputs": [
        {
          "output_type": "stream",
          "name": "stdout",
          "text": [
            "answer_4= 2.6\n"
          ]
        }
      ]
    },
    {
      "cell_type": "code",
      "source": [
        "answer_5=input_1//input_2\n",
        "print('answer_5=',answer_5)"
      ],
      "metadata": {
        "colab": {
          "base_uri": "https://localhost:8080/"
        },
        "id": "tfkoBCpPgxaW",
        "outputId": "4ca4b85e-fafc-4086-97a1-ef98b70e5859"
      },
      "execution_count": null,
      "outputs": [
        {
          "output_type": "stream",
          "name": "stdout",
          "text": [
            "answer_5= 2.0\n"
          ]
        }
      ]
    },
    {
      "cell_type": "code",
      "source": [
        "answer_6=input_1%input_2\n",
        "print('answer_6=',answer_6)"
      ],
      "metadata": {
        "id": "w1hARncJg2Hn"
      },
      "execution_count": null,
      "outputs": []
    },
    {
      "cell_type": "markdown",
      "source": [
        "### For the power, use \"**\" "
      ],
      "metadata": {
        "id": "mE5xbBV0g5_5"
      }
    },
    {
      "cell_type": "code",
      "source": [
        "answer_7=input_1**input_2\n",
        "print('answer_7=',answer_7)"
      ],
      "metadata": {
        "colab": {
          "base_uri": "https://localhost:8080/"
        },
        "id": "7524-mRHhB55",
        "outputId": "ce4189b8-360a-49a5-bacd-5bd117ab207b"
      },
      "execution_count": null,
      "outputs": [
        {
          "output_type": "stream",
          "name": "stdout",
          "text": [
            "answer_7= 371293.0\n"
          ]
        }
      ]
    },
    {
      "cell_type": "markdown",
      "source": [
        "### Augumented assigment operator: \"x=x+y\" is the same as \"x+=y\""
      ],
      "metadata": {
        "id": "1FvVfA6RhZDL"
      }
    },
    {
      "cell_type": "code",
      "source": [
        "x=2\n",
        "x=x+10\n",
        "print(x)\n",
        "\n",
        "#alternatively, \n",
        "y=5\n",
        "y+=10\n",
        "print(y)"
      ],
      "metadata": {
        "colab": {
          "base_uri": "https://localhost:8080/"
        },
        "id": "9kZ3iaFihjd3",
        "outputId": "716759dc-af10-46a1-c7dc-f260829cf31c"
      },
      "execution_count": null,
      "outputs": [
        {
          "output_type": "stream",
          "name": "stdout",
          "text": [
            "12\n",
            "15\n"
          ]
        }
      ]
    },
    {
      "cell_type": "markdown",
      "source": [
        "## If statements"
      ],
      "metadata": {
        "id": "Nwrb7ACvho3e"
      }
    },
    {
      "cell_type": "code",
      "source": [
        "if input_1>input_2: # the \":\" makes the indentation and the indented print() is a part of the \"if\" statement\n",
        "    print(input_1)\n",
        "    \n",
        "elif input_1<input_2: #elif is a start of noew function, should not have indentation\n",
        "    print(input_2)\n",
        "    \n",
        "else:\n",
        "    print(\"input_1=input_2\")"
      ],
      "metadata": {
        "colab": {
          "base_uri": "https://localhost:8080/"
        },
        "id": "towrDYbDiCaD",
        "outputId": "7248f25c-5d5d-41f2-9a5c-fca3ece9b8d1"
      },
      "execution_count": null,
      "outputs": [
        {
          "output_type": "stream",
          "name": "stdout",
          "text": [
            "13.0\n"
          ]
        }
      ]
    },
    {
      "cell_type": "markdown",
      "source": [
        "## Comparision opertor"
      ],
      "metadata": {
        "id": "rLH4c_1qiNDa"
      }
    },
    {
      "cell_type": "code",
      "source": [
        "a=5\n",
        "b=6\n",
        "a > b"
      ],
      "metadata": {
        "colab": {
          "base_uri": "https://localhost:8080/"
        },
        "id": "9mkzMh6wiTHZ",
        "outputId": "b98fa7c4-dee9-4c4b-b99f-833825069ac0"
      },
      "execution_count": null,
      "outputs": [
        {
          "output_type": "execute_result",
          "data": {
            "text/plain": [
              "False"
            ]
          },
          "metadata": {},
          "execution_count": 19
        }
      ]
    },
    {
      "cell_type": "code",
      "source": [
        "a=5\n",
        "b=6\n",
        "\n",
        "a >= b #(greater than or equal to)\n"
      ],
      "metadata": {
        "id": "sNGggnhEikkN"
      },
      "execution_count": null,
      "outputs": []
    },
    {
      "cell_type": "code",
      "source": [
        "a=5\n",
        "b=6\n",
        "a < b "
      ],
      "metadata": {
        "id": "gVYTPjmOiqzQ"
      },
      "execution_count": null,
      "outputs": []
    },
    {
      "cell_type": "code",
      "source": [
        "a=5\n",
        "b=6\n",
        "a <= b\n"
      ],
      "metadata": {
        "id": "bBUAYHaNirkO"
      },
      "execution_count": null,
      "outputs": []
    },
    {
      "cell_type": "code",
      "source": [
        "a=5\n",
        "b=6\n",
        "a == b #(equals)\n",
        "a != b #(not equals)"
      ],
      "metadata": {
        "id": "odFeSrkZitEt"
      },
      "execution_count": null,
      "outputs": []
    },
    {
      "cell_type": "code",
      "source": [
        "a=5\n",
        "b=6\n",
        "a != b #(not equals)"
      ],
      "metadata": {
        "id": "7IN7BwQii_3o"
      },
      "execution_count": null,
      "outputs": []
    },
    {
      "cell_type": "markdown",
      "source": [
        "## While loop"
      ],
      "metadata": {
        "id": "oTyyuePLjCrQ"
      }
    },
    {
      "cell_type": "code",
      "source": [
        "i=1\n",
        "while i<4:\n",
        "    print(i)\n",
        "    i+=1   #both lines should be indented. The while loops stops once i=4"
      ],
      "metadata": {
        "colab": {
          "base_uri": "https://localhost:8080/"
        },
        "id": "2Rue1hb7jHWn",
        "outputId": "a0eaeae4-aff0-4e6f-9888-9c0e383563f4"
      },
      "execution_count": null,
      "outputs": [
        {
          "output_type": "stream",
          "name": "stdout",
          "text": [
            "1\n",
            "2\n",
            "3\n"
          ]
        }
      ]
    },
    {
      "cell_type": "markdown",
      "source": [
        "## For loop"
      ],
      "metadata": {
        "id": "YBfYRfzQjM0v"
      }
    },
    {
      "cell_type": "code",
      "source": [
        "for i in range (3,5): # 3<=i<5\n",
        "    print(i)"
      ],
      "metadata": {
        "id": "QY5HFYdojVR3",
        "outputId": "67f8a8a5-c873-4697-f623-2c53abcd047c",
        "colab": {
          "base_uri": "https://localhost:8080/"
        }
      },
      "execution_count": null,
      "outputs": [
        {
          "output_type": "stream",
          "name": "stdout",
          "text": [
            "3\n",
            "4\n"
          ]
        }
      ]
    }
  ]
}