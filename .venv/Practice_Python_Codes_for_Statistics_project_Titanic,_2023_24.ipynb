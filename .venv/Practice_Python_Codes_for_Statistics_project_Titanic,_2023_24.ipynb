{
  "cells": [
    {
      "cell_type": "markdown",
      "metadata": {
        "id": "sI7yM4mOFLob"
      },
      "source": [
        "# **Practice Python codes for statistics project -Titanic, 2023-24**\n",
        "# Data Set: Titanic"
      ]
    },
    {
      "cell_type": "markdown",
      "metadata": {
        "id": "a2XO3t6CDwxp"
      },
      "source": [
        "\n",
        "*   Sorting and prepartion of data\n",
        "*   Calculate for central tendency and spread #\n",
        "*   Visual representaion of data #\n",
        "*   Inferrential anaylisis\n"
      ]
    },
    {
      "cell_type": "markdown",
      "metadata": {
        "id": "GDatgD7PqSKy"
      },
      "source": [
        "# **Importing Data**\n",
        "\n"
      ]
    },
    {
      "cell_type": "code",
      "execution_count": 2,
      "metadata": {
        "id": "F4tUryAZF4O6"
      },
      "outputs": [
        {
          "name": "stderr",
          "output_type": "stream",
          "text": [
            "Matplotlib is building the font cache; this may take a moment.\n"
          ]
        }
      ],
      "source": [
        "#We import some packages (tools)\n",
        "import pandas as pd  #import pandas and call it pd\n",
        "import numpy as np   #import numpy and call it np\n",
        "import matplotlib.pyplot as plt\n",
        "\n",
        "\n",
        "%matplotlib inline"
      ]
    },
    {
      "cell_type": "code",
      "execution_count": 3,
      "metadata": {
        "id": "VwsI4QlQGAma"
      },
      "outputs": [
        {
          "data": {
            "text/html": [
              "<div>\n",
              "<style scoped>\n",
              "    .dataframe tbody tr th:only-of-type {\n",
              "        vertical-align: middle;\n",
              "    }\n",
              "\n",
              "    .dataframe tbody tr th {\n",
              "        vertical-align: top;\n",
              "    }\n",
              "\n",
              "    .dataframe thead th {\n",
              "        text-align: right;\n",
              "    }\n",
              "</style>\n",
              "<table border=\"1\" class=\"dataframe\">\n",
              "  <thead>\n",
              "    <tr style=\"text-align: right;\">\n",
              "      <th></th>\n",
              "      <th>PassengerId</th>\n",
              "      <th>Survived</th>\n",
              "      <th>Pclass</th>\n",
              "      <th>Name</th>\n",
              "      <th>Sex</th>\n",
              "      <th>Age</th>\n",
              "      <th>SibSp</th>\n",
              "      <th>Parch</th>\n",
              "      <th>FS</th>\n",
              "      <th>Ticket</th>\n",
              "      <th>Fare</th>\n",
              "      <th>Embarked</th>\n",
              "    </tr>\n",
              "  </thead>\n",
              "  <tbody>\n",
              "    <tr>\n",
              "      <th>0</th>\n",
              "      <td>342</td>\n",
              "      <td>1</td>\n",
              "      <td>1</td>\n",
              "      <td>Fortune, Miss. Alice Elizabeth</td>\n",
              "      <td>female</td>\n",
              "      <td>24.0</td>\n",
              "      <td>3</td>\n",
              "      <td>2</td>\n",
              "      <td>6</td>\n",
              "      <td>19950</td>\n",
              "      <td>263.0000</td>\n",
              "      <td>S</td>\n",
              "    </tr>\n",
              "    <tr>\n",
              "      <th>1</th>\n",
              "      <td>89</td>\n",
              "      <td>1</td>\n",
              "      <td>1</td>\n",
              "      <td>Fortune, Miss. Mabel Helen</td>\n",
              "      <td>female</td>\n",
              "      <td>23.0</td>\n",
              "      <td>3</td>\n",
              "      <td>2</td>\n",
              "      <td>6</td>\n",
              "      <td>19950</td>\n",
              "      <td>263.0000</td>\n",
              "      <td>S</td>\n",
              "    </tr>\n",
              "    <tr>\n",
              "      <th>2</th>\n",
              "      <td>743</td>\n",
              "      <td>1</td>\n",
              "      <td>1</td>\n",
              "      <td>Ryerson, Miss. Susan Parker \"Suzette\"</td>\n",
              "      <td>female</td>\n",
              "      <td>21.0</td>\n",
              "      <td>2</td>\n",
              "      <td>2</td>\n",
              "      <td>5</td>\n",
              "      <td>PC 17608</td>\n",
              "      <td>262.3750</td>\n",
              "      <td>C</td>\n",
              "    </tr>\n",
              "    <tr>\n",
              "      <th>3</th>\n",
              "      <td>312</td>\n",
              "      <td>1</td>\n",
              "      <td>1</td>\n",
              "      <td>Ryerson, Miss. Emily Borie</td>\n",
              "      <td>female</td>\n",
              "      <td>18.0</td>\n",
              "      <td>2</td>\n",
              "      <td>2</td>\n",
              "      <td>5</td>\n",
              "      <td>PC 17608</td>\n",
              "      <td>262.3750</td>\n",
              "      <td>C</td>\n",
              "    </tr>\n",
              "    <tr>\n",
              "      <th>4</th>\n",
              "      <td>764</td>\n",
              "      <td>1</td>\n",
              "      <td>1</td>\n",
              "      <td>Carter, Mrs. William Ernest (Lucile Polk)</td>\n",
              "      <td>female</td>\n",
              "      <td>36.0</td>\n",
              "      <td>1</td>\n",
              "      <td>2</td>\n",
              "      <td>4</td>\n",
              "      <td>113760</td>\n",
              "      <td>120.0000</td>\n",
              "      <td>S</td>\n",
              "    </tr>\n",
              "    <tr>\n",
              "      <th>...</th>\n",
              "      <td>...</td>\n",
              "      <td>...</td>\n",
              "      <td>...</td>\n",
              "      <td>...</td>\n",
              "      <td>...</td>\n",
              "      <td>...</td>\n",
              "      <td>...</td>\n",
              "      <td>...</td>\n",
              "      <td>...</td>\n",
              "      <td>...</td>\n",
              "      <td>...</td>\n",
              "      <td>...</td>\n",
              "    </tr>\n",
              "    <tr>\n",
              "      <th>709</th>\n",
              "      <td>221</td>\n",
              "      <td>1</td>\n",
              "      <td>3</td>\n",
              "      <td>Sunderland, Mr. Victor Francis</td>\n",
              "      <td>male</td>\n",
              "      <td>16.0</td>\n",
              "      <td>0</td>\n",
              "      <td>0</td>\n",
              "      <td>1</td>\n",
              "      <td>SOTON/OQ 392089</td>\n",
              "      <td>8.0500</td>\n",
              "      <td>S</td>\n",
              "    </tr>\n",
              "    <tr>\n",
              "      <th>710</th>\n",
              "      <td>283</td>\n",
              "      <td>0</td>\n",
              "      <td>3</td>\n",
              "      <td>de Pelsmaeker, Mr. Alfons</td>\n",
              "      <td>male</td>\n",
              "      <td>16.0</td>\n",
              "      <td>0</td>\n",
              "      <td>0</td>\n",
              "      <td>1</td>\n",
              "      <td>345778</td>\n",
              "      <td>9.5000</td>\n",
              "      <td>S</td>\n",
              "    </tr>\n",
              "    <tr>\n",
              "      <th>711</th>\n",
              "      <td>575</td>\n",
              "      <td>0</td>\n",
              "      <td>3</td>\n",
              "      <td>Rush, Mr. Alfred George John</td>\n",
              "      <td>male</td>\n",
              "      <td>16.0</td>\n",
              "      <td>0</td>\n",
              "      <td>0</td>\n",
              "      <td>1</td>\n",
              "      <td>A/4. 20589</td>\n",
              "      <td>8.0500</td>\n",
              "      <td>S</td>\n",
              "    </tr>\n",
              "    <tr>\n",
              "      <th>712</th>\n",
              "      <td>765</td>\n",
              "      <td>0</td>\n",
              "      <td>3</td>\n",
              "      <td>Eklund, Mr. Hans Linus</td>\n",
              "      <td>male</td>\n",
              "      <td>16.0</td>\n",
              "      <td>0</td>\n",
              "      <td>0</td>\n",
              "      <td>1</td>\n",
              "      <td>347074</td>\n",
              "      <td>7.7750</td>\n",
              "      <td>S</td>\n",
              "    </tr>\n",
              "    <tr>\n",
              "      <th>713</th>\n",
              "      <td>732</td>\n",
              "      <td>0</td>\n",
              "      <td>3</td>\n",
              "      <td>Hassan, Mr. Houssein G N</td>\n",
              "      <td>male</td>\n",
              "      <td>11.0</td>\n",
              "      <td>0</td>\n",
              "      <td>0</td>\n",
              "      <td>1</td>\n",
              "      <td>2699</td>\n",
              "      <td>18.7875</td>\n",
              "      <td>C</td>\n",
              "    </tr>\n",
              "  </tbody>\n",
              "</table>\n",
              "<p>714 rows × 12 columns</p>\n",
              "</div>"
            ],
            "text/plain": [
              "     PassengerId  Survived  Pclass                                       Name  \\\n",
              "0            342         1       1             Fortune, Miss. Alice Elizabeth   \n",
              "1             89         1       1                 Fortune, Miss. Mabel Helen   \n",
              "2            743         1       1      Ryerson, Miss. Susan Parker \"Suzette\"   \n",
              "3            312         1       1                 Ryerson, Miss. Emily Borie   \n",
              "4            764         1       1  Carter, Mrs. William Ernest (Lucile Polk)   \n",
              "..           ...       ...     ...                                        ...   \n",
              "709          221         1       3             Sunderland, Mr. Victor Francis   \n",
              "710          283         0       3                  de Pelsmaeker, Mr. Alfons   \n",
              "711          575         0       3               Rush, Mr. Alfred George John   \n",
              "712          765         0       3                     Eklund, Mr. Hans Linus   \n",
              "713          732         0       3                   Hassan, Mr. Houssein G N   \n",
              "\n",
              "        Sex   Age  SibSp  Parch  FS           Ticket      Fare Embarked  \n",
              "0    female  24.0      3      2   6            19950  263.0000        S  \n",
              "1    female  23.0      3      2   6            19950  263.0000        S  \n",
              "2    female  21.0      2      2   5         PC 17608  262.3750        C  \n",
              "3    female  18.0      2      2   5         PC 17608  262.3750        C  \n",
              "4    female  36.0      1      2   4           113760  120.0000        S  \n",
              "..      ...   ...    ...    ...  ..              ...       ...      ...  \n",
              "709    male  16.0      0      0   1  SOTON/OQ 392089    8.0500        S  \n",
              "710    male  16.0      0      0   1           345778    9.5000        S  \n",
              "711    male  16.0      0      0   1       A/4. 20589    8.0500        S  \n",
              "712    male  16.0      0      0   1           347074    7.7750        S  \n",
              "713    male  11.0      0      0   1             2699   18.7875        C  \n",
              "\n",
              "[714 rows x 12 columns]"
            ]
          },
          "execution_count": 3,
          "metadata": {},
          "output_type": "execute_result"
        }
      ],
      "source": [
        "#Upload file from GitHub\\\n",
        "#Click on the dataset in your GitHub repository, then click on Raw on the righthand side.\n",
        "#Copy the link to the raw dataset and paste it as a string variable called url in Colab as shown below (a cleaner method but it’s not necessary).\n",
        "#The last step is to load the url into Pandas read_csv to get the dataframe.\n",
        "url='https://raw.githubusercontent.com/srsq64/CMT-Data-Science/main/Titanic%20trainning%20set%20cleaned.csv'\n",
        "Titanic=pd.read_csv(url)\n",
        "Titanic"
      ]
    },
    {
      "cell_type": "code",
      "execution_count": 4,
      "metadata": {
        "id": "ICYUcrBvriw5"
      },
      "outputs": [
        {
          "name": "stdout",
          "output_type": "stream",
          "text": [
            "<class 'pandas.core.frame.DataFrame'>\n",
            "RangeIndex: 714 entries, 0 to 713\n",
            "Data columns (total 12 columns):\n",
            " #   Column       Non-Null Count  Dtype  \n",
            "---  ------       --------------  -----  \n",
            " 0   PassengerId  714 non-null    int64  \n",
            " 1   Survived     714 non-null    int64  \n",
            " 2   Pclass       714 non-null    int64  \n",
            " 3   Name         714 non-null    object \n",
            " 4   Sex          714 non-null    object \n",
            " 5   Age          714 non-null    float64\n",
            " 6   SibSp        714 non-null    int64  \n",
            " 7   Parch        714 non-null    int64  \n",
            " 8   FS           714 non-null    int64  \n",
            " 9   Ticket       714 non-null    object \n",
            " 10  Fare         714 non-null    float64\n",
            " 11  Embarked     712 non-null    object \n",
            "dtypes: float64(2), int64(6), object(4)\n",
            "memory usage: 67.1+ KB\n"
          ]
        }
      ],
      "source": [
        "# To find property of data\n",
        "Titanic.info()"
      ]
    },
    {
      "cell_type": "code",
      "execution_count": 5,
      "metadata": {
        "id": "RC4ggK2Pvm89"
      },
      "outputs": [
        {
          "data": {
            "text/plain": [
              "Index(['PassengerId', 'Survived', 'Pclass', 'Name', 'Sex', 'Age', 'SibSp',\n",
              "       'Parch', 'FS', 'Ticket', 'Fare', 'Embarked'],\n",
              "      dtype='object')"
            ]
          },
          "execution_count": 5,
          "metadata": {},
          "output_type": "execute_result"
        }
      ],
      "source": [
        "Titanic.columns #This gives you the heading of each column, a very useful information"
      ]
    },
    {
      "cell_type": "markdown",
      "metadata": {
        "id": "SwVl5c1YsEws"
      },
      "source": [
        "# **Sampling methods**"
      ]
    },
    {
      "cell_type": "markdown",
      "metadata": {
        "id": "gWjZqbAICDj1"
      },
      "source": [
        "# **Produce contigency tables**"
      ]
    },
    {
      "cell_type": "markdown",
      "metadata": {
        "id": "Ruw6Sc86rx8K"
      },
      "source": [
        "# **Mean, Median, Mode, LQ, UP, Standard deviation, minimum and maximum**"
      ]
    },
    {
      "cell_type": "code",
      "execution_count": null,
      "metadata": {
        "id": "pPGz268RCJc4"
      },
      "outputs": [],
      "source": []
    },
    {
      "cell_type": "markdown",
      "metadata": {
        "id": "toGb01TNwmdE"
      },
      "source": [
        "# **Visual represenation of data**\n",
        "\n",
        "#### Note: You can right click the produced charts and copy and paste to your report\n"
      ]
    },
    {
      "cell_type": "markdown",
      "metadata": {
        "id": "rviT53hGw8B0"
      },
      "source": [
        "## 1. Produce a bart chart\n",
        "### Use family size (FS) as an example"
      ]
    },
    {
      "cell_type": "markdown",
      "metadata": {
        "id": "7Pd3bLI51Awj"
      },
      "source": [
        "## 2. Produce a compund bart chart\n",
        "\n",
        "### use the Sex and Survived columns as an example"
      ]
    },
    {
      "cell_type": "markdown",
      "metadata": {
        "id": "aL2k5Ewi7aHc"
      },
      "source": [
        "## 3. Produce a pie chart\n",
        "### Use family size as an example"
      ]
    },
    {
      "cell_type": "markdown",
      "metadata": {
        "id": "ZbT6GNxXDrfB"
      },
      "source": [
        "## 4. Box & Whisker\n",
        "### Use the Age data"
      ]
    },
    {
      "cell_type": "markdown",
      "metadata": {
        "id": "EmKg9-lyE0H6"
      },
      "source": [
        "## 5. Frequency Histigrame using pli.hist\n",
        "### Use the Age data"
      ]
    },
    {
      "cell_type": "markdown",
      "metadata": {
        "id": "FiwfGx1FHQ5N"
      },
      "source": [
        "## 6. Cumulative frequency chart\n",
        "### Use the Age data as an example"
      ]
    },
    {
      "cell_type": "markdown",
      "metadata": {
        "id": "3s3EOx51J2i-"
      },
      "source": [
        "# **Infrential anyalsis-Hypothesis testing**"
      ]
    },
    {
      "cell_type": "markdown",
      "metadata": {
        "id": "K9WlBJsAKtfL"
      },
      "source": [
        "## 1. Two sample t-test\n",
        "### Use \"Survived\" and \"Fare\" variable for single family"
      ]
    },
    {
      "cell_type": "markdown",
      "metadata": {
        "id": "KBRiyVArUC-r"
      },
      "source": [
        "## 2. Paired t-test"
      ]
    },
    {
      "cell_type": "markdown",
      "metadata": {
        "id": "syRABqmAUeop"
      },
      "source": [
        "## 3. Linear regression"
      ]
    },
    {
      "cell_type": "markdown",
      "metadata": {
        "id": "E8XXorao1Ntg"
      },
      "source": [
        "### Scatter diagram"
      ]
    },
    {
      "cell_type": "markdown",
      "metadata": {
        "id": "PfrTC5ZA2QXs"
      },
      "source": [
        "### Hypothesis testing for linear correlation between two varibles"
      ]
    },
    {
      "cell_type": "markdown",
      "metadata": {
        "id": "yWoZhY0H3VRd"
      },
      "source": [
        "## 4. Chi squared test\n",
        "\n",
        "#### You can use this tool to test whether two categorical variables are related or independent.\n",
        "\n",
        "#### Assumptions\n",
        "\n",
        "#### Observations used in the calculation of the contingency table are independent.\n",
        "#### 25 or more frequency in each cell of the contingency table.\n",
        "#### Interpretation\n",
        "\n",
        "#### H0: the two samples are independent.\n",
        "#### H1: there is a dependency between the samples."
      ]
    }
  ],
  "metadata": {
    "colab": {
      "provenance": []
    },
    "kernelspec": {
      "display_name": "Python 3",
      "name": "python3"
    },
    "language_info": {
      "codemirror_mode": {
        "name": "ipython",
        "version": 3
      },
      "file_extension": ".py",
      "mimetype": "text/x-python",
      "name": "python",
      "nbconvert_exporter": "python",
      "pygments_lexer": "ipython3",
      "version": "3.11.4"
    }
  },
  "nbformat": 4,
  "nbformat_minor": 0
}
