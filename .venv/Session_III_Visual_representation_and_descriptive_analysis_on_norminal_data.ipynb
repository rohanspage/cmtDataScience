{
  "nbformat": 4,
  "nbformat_minor": 0,
  "metadata": {
    "colab": {
      "provenance": [],
      "authorship_tag": "ABX9TyN75psvbFlC2GbtouYZ3+Ny",
      "include_colab_link": true
    },
    "kernelspec": {
      "name": "python3",
      "display_name": "Python 3"
    },
    "language_info": {
      "name": "python"
    }
  },
  "cells": [
    {
      "cell_type": "markdown",
      "metadata": {
        "id": "view-in-github",
        "colab_type": "text"
      },
      "source": [
        "<a href=\"https://colab.research.google.com/github/srsq64/CMT-Data-Science/blob/main/Session_III_Visual_representation_and_descriptive_analysis_on_norminal_data.ipynb\" target=\"_parent\"><img src=\"https://colab.research.google.com/assets/colab-badge.svg\" alt=\"Open In Colab\"/></a>"
      ]
    },
    {
      "cell_type": "markdown",
      "source": [
        "# **Learning outcome**"
      ],
      "metadata": {
        "id": "Ll9a5aUhsu16"
      }
    },
    {
      "cell_type": "markdown",
      "source": [
        "Jean Mathias, Foundation Programme, Durham University"
      ],
      "metadata": {
        "id": "oRR9IW_P0L8g"
      }
    },
    {
      "cell_type": "markdown",
      "source": [
        "* Visusal representaion of norminal data\n",
        "* Descriptive analysis"
      ],
      "metadata": {
        "id": "ky6i_W8srXMX"
      }
    },
    {
      "cell_type": "markdown",
      "source": [
        "# Import data and find basic information"
      ],
      "metadata": {
        "id": "EhKHVjE3JjYs"
      }
    },
    {
      "cell_type": "code",
      "source": [
        "#First we import some packages (tools)\n",
        "import pandas as pd  #import pandas and call it pd\n",
        "import numpy as np   #import numpy and call it np\n",
        "import matplotlib.pyplot as plt\n",
        "\n",
        "\n",
        "%matplotlib inline"
      ],
      "metadata": {
        "id": "0WpGwN1EtM9g"
      },
      "execution_count": null,
      "outputs": []
    },
    {
      "cell_type": "code",
      "source": [
        "#first upload file from GitHub\\\n",
        "#Click on the dataset in your repository, then click on View Raw. \n",
        "#Copy the link to the raw dataset and store it as a string variable called url in Colab as shown below (a cleaner method but it’s not necessary). \n",
        "#The last step is to load the url into Pandas read_csv to get the dataframe.\n",
        "url='https://raw.githubusercontent.com/srsq64/CMT-Data-Science/main/Avonford_cleaned.csv'\n",
        "cyclying=pd.read_csv(url)\n",
        "cyclying"
      ],
      "metadata": {
        "colab": {
          "base_uri": "https://localhost:8080/",
          "height": 520
        },
        "id": "slpwzJ9ftSii",
        "outputId": "fedd895c-8a5c-491d-cadb-10c40699eefe"
      },
      "execution_count": null,
      "outputs": [
        {
          "output_type": "execute_result",
          "data": {
            "text/plain": [
              "   first name last name gender   age distance from home  \\\n",
              "0      Sharon   Griffin      f   7.0               75 m   \n",
              "1        Fred    Fuller      m   6.0                20m   \n",
              "2       Seren     Maher      f  16.0                20m   \n",
              "3       James     Moore      m  20.0                2km   \n",
              "4      Claire   Higgins      f  19.0              10 km   \n",
              "..        ...       ...    ...   ...                ...   \n",
              "84  Alexander    Duggan      m  34.0          0.5 miles   \n",
              "85       Cath    Pickin      f  16.0          half mile   \n",
              "86       John     Smith      m  45.0               3 km   \n",
              "87    Shelley      Mann      f  21.0               50m    \n",
              "88       Luke    Murphy      m  20.0            3 miles   \n",
              "\n",
              "                       cause                           injuries  \\\n",
              "0            uneven pavement                         broken leg   \n",
              "1                  fell over                         concussion   \n",
              "2                   hit kerb                   dislocated elbow   \n",
              "3        trying to fix chain           partially severed finger   \n",
              "4   hit by car at roundabout   fractured arm and sprained wrist   \n",
              "..                       ...                                ...   \n",
              "84             brakes failed                         concussion   \n",
              "85          puncture by nail                   abrasions on leg   \n",
              "86                      skid                         concussion   \n",
              "87     slipped on wet leaves  deep cuts to legs, strained wrist   \n",
              "88            messing around                         broken arm   \n",
              "\n",
              "    overnights in hospital time of accident  Time of accident numerical  \\\n",
              "0                        1             2:35                        2.58   \n",
              "1                        1             3:15                        3.25   \n",
              "2                        0             7:00                        7.00   \n",
              "3                        0             7:00                        7.00   \n",
              "4                        0             7:45                        7.75   \n",
              "..                     ...              ...                         ...   \n",
              "84                       0            19:30                       19.50   \n",
              "85                       0            19:30                       19.50   \n",
              "86                       0            19:45                       19.75   \n",
              "87                       0            21:00                       21.00   \n",
              "88                       0            22:00                       22.00   \n",
              "\n",
              "   day of accident month of accident  Officer reporting wearing a helmet?  \n",
              "0         Saturday               May              45211                 y  \n",
              "1           Sunday         September              39813                 y  \n",
              "2        Wednesday          November              78264                 n  \n",
              "3           Monday              June              97655                 n  \n",
              "4           Monday          February              78264                 y  \n",
              "..             ...               ...                ...               ...  \n",
              "84          Monday           January              39813                 n  \n",
              "85         Tuesday          February              79655                 y  \n",
              "86         Tuesday               May              78264                 y  \n",
              "87          Friday           January              97655                 y  \n",
              "88        Saturday             April              78264                 y  \n",
              "\n",
              "[89 rows x 14 columns]"
            ],
            "text/html": [
              "\n",
              "  <div id=\"df-730d0e76-edca-4d98-8064-e8c25e5aa077\">\n",
              "    <div class=\"colab-df-container\">\n",
              "      <div>\n",
              "<style scoped>\n",
              "    .dataframe tbody tr th:only-of-type {\n",
              "        vertical-align: middle;\n",
              "    }\n",
              "\n",
              "    .dataframe tbody tr th {\n",
              "        vertical-align: top;\n",
              "    }\n",
              "\n",
              "    .dataframe thead th {\n",
              "        text-align: right;\n",
              "    }\n",
              "</style>\n",
              "<table border=\"1\" class=\"dataframe\">\n",
              "  <thead>\n",
              "    <tr style=\"text-align: right;\">\n",
              "      <th></th>\n",
              "      <th>first name</th>\n",
              "      <th>last name</th>\n",
              "      <th>gender</th>\n",
              "      <th>age</th>\n",
              "      <th>distance from home</th>\n",
              "      <th>cause</th>\n",
              "      <th>injuries</th>\n",
              "      <th>overnights in hospital</th>\n",
              "      <th>time of accident</th>\n",
              "      <th>Time of accident numerical</th>\n",
              "      <th>day of accident</th>\n",
              "      <th>month of accident</th>\n",
              "      <th>Officer reporting</th>\n",
              "      <th>wearing a helmet?</th>\n",
              "    </tr>\n",
              "  </thead>\n",
              "  <tbody>\n",
              "    <tr>\n",
              "      <th>0</th>\n",
              "      <td>Sharon</td>\n",
              "      <td>Griffin</td>\n",
              "      <td>f</td>\n",
              "      <td>7.0</td>\n",
              "      <td>75 m</td>\n",
              "      <td>uneven pavement</td>\n",
              "      <td>broken leg</td>\n",
              "      <td>1</td>\n",
              "      <td>2:35</td>\n",
              "      <td>2.58</td>\n",
              "      <td>Saturday</td>\n",
              "      <td>May</td>\n",
              "      <td>45211</td>\n",
              "      <td>y</td>\n",
              "    </tr>\n",
              "    <tr>\n",
              "      <th>1</th>\n",
              "      <td>Fred</td>\n",
              "      <td>Fuller</td>\n",
              "      <td>m</td>\n",
              "      <td>6.0</td>\n",
              "      <td>20m</td>\n",
              "      <td>fell over</td>\n",
              "      <td>concussion</td>\n",
              "      <td>1</td>\n",
              "      <td>3:15</td>\n",
              "      <td>3.25</td>\n",
              "      <td>Sunday</td>\n",
              "      <td>September</td>\n",
              "      <td>39813</td>\n",
              "      <td>y</td>\n",
              "    </tr>\n",
              "    <tr>\n",
              "      <th>2</th>\n",
              "      <td>Seren</td>\n",
              "      <td>Maher</td>\n",
              "      <td>f</td>\n",
              "      <td>16.0</td>\n",
              "      <td>20m</td>\n",
              "      <td>hit kerb</td>\n",
              "      <td>dislocated elbow</td>\n",
              "      <td>0</td>\n",
              "      <td>7:00</td>\n",
              "      <td>7.00</td>\n",
              "      <td>Wednesday</td>\n",
              "      <td>November</td>\n",
              "      <td>78264</td>\n",
              "      <td>n</td>\n",
              "    </tr>\n",
              "    <tr>\n",
              "      <th>3</th>\n",
              "      <td>James</td>\n",
              "      <td>Moore</td>\n",
              "      <td>m</td>\n",
              "      <td>20.0</td>\n",
              "      <td>2km</td>\n",
              "      <td>trying to fix chain</td>\n",
              "      <td>partially severed finger</td>\n",
              "      <td>0</td>\n",
              "      <td>7:00</td>\n",
              "      <td>7.00</td>\n",
              "      <td>Monday</td>\n",
              "      <td>June</td>\n",
              "      <td>97655</td>\n",
              "      <td>n</td>\n",
              "    </tr>\n",
              "    <tr>\n",
              "      <th>4</th>\n",
              "      <td>Claire</td>\n",
              "      <td>Higgins</td>\n",
              "      <td>f</td>\n",
              "      <td>19.0</td>\n",
              "      <td>10 km</td>\n",
              "      <td>hit by car at roundabout</td>\n",
              "      <td>fractured arm and sprained wrist</td>\n",
              "      <td>0</td>\n",
              "      <td>7:45</td>\n",
              "      <td>7.75</td>\n",
              "      <td>Monday</td>\n",
              "      <td>February</td>\n",
              "      <td>78264</td>\n",
              "      <td>y</td>\n",
              "    </tr>\n",
              "    <tr>\n",
              "      <th>...</th>\n",
              "      <td>...</td>\n",
              "      <td>...</td>\n",
              "      <td>...</td>\n",
              "      <td>...</td>\n",
              "      <td>...</td>\n",
              "      <td>...</td>\n",
              "      <td>...</td>\n",
              "      <td>...</td>\n",
              "      <td>...</td>\n",
              "      <td>...</td>\n",
              "      <td>...</td>\n",
              "      <td>...</td>\n",
              "      <td>...</td>\n",
              "      <td>...</td>\n",
              "    </tr>\n",
              "    <tr>\n",
              "      <th>84</th>\n",
              "      <td>Alexander</td>\n",
              "      <td>Duggan</td>\n",
              "      <td>m</td>\n",
              "      <td>34.0</td>\n",
              "      <td>0.5 miles</td>\n",
              "      <td>brakes failed</td>\n",
              "      <td>concussion</td>\n",
              "      <td>0</td>\n",
              "      <td>19:30</td>\n",
              "      <td>19.50</td>\n",
              "      <td>Monday</td>\n",
              "      <td>January</td>\n",
              "      <td>39813</td>\n",
              "      <td>n</td>\n",
              "    </tr>\n",
              "    <tr>\n",
              "      <th>85</th>\n",
              "      <td>Cath</td>\n",
              "      <td>Pickin</td>\n",
              "      <td>f</td>\n",
              "      <td>16.0</td>\n",
              "      <td>half mile</td>\n",
              "      <td>puncture by nail</td>\n",
              "      <td>abrasions on leg</td>\n",
              "      <td>0</td>\n",
              "      <td>19:30</td>\n",
              "      <td>19.50</td>\n",
              "      <td>Tuesday</td>\n",
              "      <td>February</td>\n",
              "      <td>79655</td>\n",
              "      <td>y</td>\n",
              "    </tr>\n",
              "    <tr>\n",
              "      <th>86</th>\n",
              "      <td>John</td>\n",
              "      <td>Smith</td>\n",
              "      <td>m</td>\n",
              "      <td>45.0</td>\n",
              "      <td>3 km</td>\n",
              "      <td>skid</td>\n",
              "      <td>concussion</td>\n",
              "      <td>0</td>\n",
              "      <td>19:45</td>\n",
              "      <td>19.75</td>\n",
              "      <td>Tuesday</td>\n",
              "      <td>May</td>\n",
              "      <td>78264</td>\n",
              "      <td>y</td>\n",
              "    </tr>\n",
              "    <tr>\n",
              "      <th>87</th>\n",
              "      <td>Shelley</td>\n",
              "      <td>Mann</td>\n",
              "      <td>f</td>\n",
              "      <td>21.0</td>\n",
              "      <td>50m</td>\n",
              "      <td>slipped on wet leaves</td>\n",
              "      <td>deep cuts to legs, strained wrist</td>\n",
              "      <td>0</td>\n",
              "      <td>21:00</td>\n",
              "      <td>21.00</td>\n",
              "      <td>Friday</td>\n",
              "      <td>January</td>\n",
              "      <td>97655</td>\n",
              "      <td>y</td>\n",
              "    </tr>\n",
              "    <tr>\n",
              "      <th>88</th>\n",
              "      <td>Luke</td>\n",
              "      <td>Murphy</td>\n",
              "      <td>m</td>\n",
              "      <td>20.0</td>\n",
              "      <td>3 miles</td>\n",
              "      <td>messing around</td>\n",
              "      <td>broken arm</td>\n",
              "      <td>0</td>\n",
              "      <td>22:00</td>\n",
              "      <td>22.00</td>\n",
              "      <td>Saturday</td>\n",
              "      <td>April</td>\n",
              "      <td>78264</td>\n",
              "      <td>y</td>\n",
              "    </tr>\n",
              "  </tbody>\n",
              "</table>\n",
              "<p>89 rows × 14 columns</p>\n",
              "</div>\n",
              "      <button class=\"colab-df-convert\" onclick=\"convertToInteractive('df-730d0e76-edca-4d98-8064-e8c25e5aa077')\"\n",
              "              title=\"Convert this dataframe to an interactive table.\"\n",
              "              style=\"display:none;\">\n",
              "        \n",
              "  <svg xmlns=\"http://www.w3.org/2000/svg\" height=\"24px\"viewBox=\"0 0 24 24\"\n",
              "       width=\"24px\">\n",
              "    <path d=\"M0 0h24v24H0V0z\" fill=\"none\"/>\n",
              "    <path d=\"M18.56 5.44l.94 2.06.94-2.06 2.06-.94-2.06-.94-.94-2.06-.94 2.06-2.06.94zm-11 1L8.5 8.5l.94-2.06 2.06-.94-2.06-.94L8.5 2.5l-.94 2.06-2.06.94zm10 10l.94 2.06.94-2.06 2.06-.94-2.06-.94-.94-2.06-.94 2.06-2.06.94z\"/><path d=\"M17.41 7.96l-1.37-1.37c-.4-.4-.92-.59-1.43-.59-.52 0-1.04.2-1.43.59L10.3 9.45l-7.72 7.72c-.78.78-.78 2.05 0 2.83L4 21.41c.39.39.9.59 1.41.59.51 0 1.02-.2 1.41-.59l7.78-7.78 2.81-2.81c.8-.78.8-2.07 0-2.86zM5.41 20L4 18.59l7.72-7.72 1.47 1.35L5.41 20z\"/>\n",
              "  </svg>\n",
              "      </button>\n",
              "      \n",
              "  <style>\n",
              "    .colab-df-container {\n",
              "      display:flex;\n",
              "      flex-wrap:wrap;\n",
              "      gap: 12px;\n",
              "    }\n",
              "\n",
              "    .colab-df-convert {\n",
              "      background-color: #E8F0FE;\n",
              "      border: none;\n",
              "      border-radius: 50%;\n",
              "      cursor: pointer;\n",
              "      display: none;\n",
              "      fill: #1967D2;\n",
              "      height: 32px;\n",
              "      padding: 0 0 0 0;\n",
              "      width: 32px;\n",
              "    }\n",
              "\n",
              "    .colab-df-convert:hover {\n",
              "      background-color: #E2EBFA;\n",
              "      box-shadow: 0px 1px 2px rgba(60, 64, 67, 0.3), 0px 1px 3px 1px rgba(60, 64, 67, 0.15);\n",
              "      fill: #174EA6;\n",
              "    }\n",
              "\n",
              "    [theme=dark] .colab-df-convert {\n",
              "      background-color: #3B4455;\n",
              "      fill: #D2E3FC;\n",
              "    }\n",
              "\n",
              "    [theme=dark] .colab-df-convert:hover {\n",
              "      background-color: #434B5C;\n",
              "      box-shadow: 0px 1px 3px 1px rgba(0, 0, 0, 0.15);\n",
              "      filter: drop-shadow(0px 1px 2px rgba(0, 0, 0, 0.3));\n",
              "      fill: #FFFFFF;\n",
              "    }\n",
              "  </style>\n",
              "\n",
              "      <script>\n",
              "        const buttonEl =\n",
              "          document.querySelector('#df-730d0e76-edca-4d98-8064-e8c25e5aa077 button.colab-df-convert');\n",
              "        buttonEl.style.display =\n",
              "          google.colab.kernel.accessAllowed ? 'block' : 'none';\n",
              "\n",
              "        async function convertToInteractive(key) {\n",
              "          const element = document.querySelector('#df-730d0e76-edca-4d98-8064-e8c25e5aa077');\n",
              "          const dataTable =\n",
              "            await google.colab.kernel.invokeFunction('convertToInteractive',\n",
              "                                                     [key], {});\n",
              "          if (!dataTable) return;\n",
              "\n",
              "          const docLinkHtml = 'Like what you see? Visit the ' +\n",
              "            '<a target=\"_blank\" href=https://colab.research.google.com/notebooks/data_table.ipynb>data table notebook</a>'\n",
              "            + ' to learn more about interactive tables.';\n",
              "          element.innerHTML = '';\n",
              "          dataTable['output_type'] = 'display_data';\n",
              "          await google.colab.output.renderOutput(dataTable, element);\n",
              "          const docLink = document.createElement('div');\n",
              "          docLink.innerHTML = docLinkHtml;\n",
              "          element.appendChild(docLink);\n",
              "        }\n",
              "      </script>\n",
              "    </div>\n",
              "  </div>\n",
              "  "
            ]
          },
          "metadata": {},
          "execution_count": 10
        }
      ]
    },
    {
      "cell_type": "code",
      "source": [
        "day=cyclying.iloc[:,10] #Here we changed the data frame to data series, however, to cahnge it back to frame, code: age.to_frame(name=\"age\")\n",
        "day # Here the age is considered as norminal data (object)"
      ],
      "metadata": {
        "id": "JvPhltmj7dYE",
        "colab": {
          "base_uri": "https://localhost:8080/"
        },
        "outputId": "d6058473-b207-4b09-ea4f-fbecd080129c"
      },
      "execution_count": null,
      "outputs": [
        {
          "output_type": "execute_result",
          "data": {
            "text/plain": [
              "0      Saturday\n",
              "1        Sunday\n",
              "2     Wednesday\n",
              "3        Monday\n",
              "4        Monday\n",
              "        ...    \n",
              "84       Monday\n",
              "85      Tuesday\n",
              "86      Tuesday\n",
              "87       Friday\n",
              "88     Saturday\n",
              "Name: day of accident, Length: 89, dtype: object"
            ]
          },
          "metadata": {},
          "execution_count": 11
        }
      ]
    },
    {
      "cell_type": "code",
      "source": [
        "day.describe() #This gives you all the basic information"
      ],
      "metadata": {
        "colab": {
          "base_uri": "https://localhost:8080/"
        },
        "id": "xpTWxwoM_XdY",
        "outputId": "b0bdf4fe-b574-494f-a2b0-93353f816730"
      },
      "execution_count": null,
      "outputs": [
        {
          "output_type": "execute_result",
          "data": {
            "text/plain": [
              "count          89\n",
              "unique          7\n",
              "top       Tuesday\n",
              "freq           22\n",
              "Name: day of accident, dtype: object"
            ]
          },
          "metadata": {},
          "execution_count": 12
        }
      ]
    },
    {
      "cell_type": "markdown",
      "source": [
        "# Produce a bar chart"
      ],
      "metadata": {
        "id": "-EFvJAilJbeU"
      }
    },
    {
      "cell_type": "code",
      "source": [
        "#counter frequency of each category\n",
        "import collections\n",
        "counter=collections.Counter(day)\n",
        "counter\n",
        "# printing the element and the frequency\n",
        "for key, value in counter.items():\n",
        "   print(f\"{key}: {value}\")"
      ],
      "metadata": {
        "colab": {
          "base_uri": "https://localhost:8080/"
        },
        "id": "2tQv13l_9kR2",
        "outputId": "3dec3b05-866e-4c14-ac3f-7e9b81ca3181"
      },
      "execution_count": null,
      "outputs": [
        {
          "output_type": "stream",
          "name": "stdout",
          "text": [
            "Saturday: 12\n",
            "Sunday: 7\n",
            "Wednesday: 13\n",
            "Monday: 19\n",
            "Thursday: 8\n",
            "Friday: 8\n",
            "Tuesday: 22\n"
          ]
        }
      ]
    },
    {
      "cell_type": "code",
      "source": [
        "cyclying['day of accident'].value_counts().plot(kind='bar')"
      ],
      "metadata": {
        "colab": {
          "base_uri": "https://localhost:8080/",
          "height": 330
        },
        "id": "JBQSHNbRENDr",
        "outputId": "4e3b2d4a-4b4f-4627-d604-570831d836fd"
      },
      "execution_count": null,
      "outputs": [
        {
          "output_type": "execute_result",
          "data": {
            "text/plain": [
              "<matplotlib.axes._subplots.AxesSubplot at 0x7fca97b43cd0>"
            ]
          },
          "metadata": {},
          "execution_count": 41
        },
        {
          "output_type": "display_data",
          "data": {
            "text/plain": [
              "<Figure size 432x288 with 1 Axes>"
            ],
            "image/png": "[encoded data removed]"
          },
          "metadata": {
            "needs_background": "light"
          }
        }
      ]
    },
    {
      "cell_type": "code",
      "source": [
        "from matplotlib.image import FigureImage\n",
        "mon=sum(day=='Monday')\n",
        "tue=sum(day=='Tuesday')\n",
        "wed=sum(day=='Wednesday')\n",
        "thu=sum(day=='Thursday')\n",
        "fri=sum(day=='Friday')\n",
        "sat=sum(day=='Saturday')\n",
        "sun=sum(day=='Sun')\n",
        "\n",
        "fig=plt.figure(figsize=(24,8))\n",
        "x_axis=['Monday','Tuesday','Wednesday','Thursday','Friday','Saturday','Sunday']\n",
        "y_axis=[mon,tue,wed,thu,fri,sat,sun]\n",
        "\n",
        "plt.bar(x_axis, y_axis)\n",
        "plt.title('Bar chart for frequency for day of accident', fontsize=20)\n",
        "plt.xlabel('Day of the week', fontsize=14)\n",
        "plt.ylabel('Number of accident',fontsize=14)\n",
        "plt.xticks(fontsize=14)\n",
        "plt.yticks(fontsize=14)\n",
        "plt.show()"
      ],
      "metadata": {
        "colab": {
          "base_uri": "https://localhost:8080/",
          "height": 526
        },
        "id": "9g5V3jP7ErSS",
        "outputId": "deb46da0-64a2-4684-dd0b-9bae74a8be58"
      },
      "execution_count": null,
      "outputs": [
        {
          "output_type": "display_data",
          "data": {
            "text/plain": [
              "<Figure size 1728x576 with 1 Axes>"
            ],
            "image/png": "[encoded data removed]"
          },
          "metadata": {
            "needs_background": "light"
          }
        }
      ]
    },
    {
      "cell_type": "markdown",
      "source": [
        "### Alternative way to produce a bar chart"
      ],
      "metadata": {
        "id": "s6Y-XwlgLPuz"
      }
    },
    {
      "cell_type": "code",
      "source": [
        "#Count frequency of unique occurance in a coulmn, \n",
        "#injuries.value_counts()\n",
        "\n",
        "#if inluding missing values:\n",
        "#injuries.value_counts()(dropna=False)\n",
        "\n",
        "#Use the groupby() method:\n",
        "fq=day.groupby(day).count()\n",
        "fq \n",
        "#in the table below, the first column is index"
      ],
      "metadata": {
        "colab": {
          "base_uri": "https://localhost:8080/"
        },
        "id": "gtiykbf1LT5U",
        "outputId": "703482ba-7554-463a-d9cf-2e8031425c8f"
      },
      "execution_count": null,
      "outputs": [
        {
          "output_type": "execute_result",
          "data": {
            "text/plain": [
              "day of accident\n",
              "Friday        8\n",
              "Monday       19\n",
              "Saturday     12\n",
              "Sunday        7\n",
              "Thursday      8\n",
              "Tuesday      22\n",
              "Wednesday    13\n",
              "Name: day of accident, dtype: int64"
            ]
          },
          "metadata": {},
          "execution_count": 62
        }
      ]
    },
    {
      "cell_type": "code",
      "source": [
        "fq.dtype"
      ],
      "metadata": {
        "colab": {
          "base_uri": "https://localhost:8080/"
        },
        "id": "e5p9KW6_Lg2k",
        "outputId": "780507c4-f401-4844-d4f9-3a67d4e78e4d"
      },
      "execution_count": null,
      "outputs": [
        {
          "output_type": "execute_result",
          "data": {
            "text/plain": [
              "dtype('int64')"
            ]
          },
          "metadata": {},
          "execution_count": 64
        }
      ]
    },
    {
      "cell_type": "code",
      "source": [
        "fq.values"
      ],
      "metadata": {
        "colab": {
          "base_uri": "https://localhost:8080/"
        },
        "id": "fRY3B4Y2Lvk7",
        "outputId": "4f4cd304-d8ce-4425-fba9-777c023d32fd"
      },
      "execution_count": null,
      "outputs": [
        {
          "output_type": "execute_result",
          "data": {
            "text/plain": [
              "array([ 8, 19, 12,  7,  8, 22, 13])"
            ]
          },
          "metadata": {},
          "execution_count": 65
        }
      ]
    },
    {
      "cell_type": "code",
      "source": [
        "#call out a cell\n",
        "fq['Friday']"
      ],
      "metadata": {
        "colab": {
          "base_uri": "https://localhost:8080/"
        },
        "id": "w4jpZlIuLzLb",
        "outputId": "3eecaccc-0547-4ea4-aa0a-b05cdff6b1d6"
      },
      "execution_count": null,
      "outputs": [
        {
          "output_type": "execute_result",
          "data": {
            "text/plain": [
              "8"
            ]
          },
          "metadata": {},
          "execution_count": 66
        }
      ]
    },
    {
      "cell_type": "code",
      "source": [
        "# bar chart\n",
        "plt.figure(figsize=(24,8))\n",
        "day = ['Monday', 'Tuesday', 'Wednesday', 'Thursday', 'Friday','Saturday','Sunday']\n",
        "frequency = [fq['Monday'], fq['Tuesday'], fq['Wednesday'],fq['Thursday'], fq['Friday'],fq['Saturday'],fq['Sunday']]\n",
        "plt.bar(day,frequency)\n",
        "plt.xlabel('day of the week',fontsize=20)\n",
        "plt.ylabel('Frequency',fontsize=20)\n",
        "plt.xticks(fontsize=18)\n",
        "plt.yticks(fontsize=18)\n",
        "plt.show()"
      ],
      "metadata": {
        "colab": {
          "base_uri": "https://localhost:8080/",
          "height": 514
        },
        "id": "ZhlVf9SEL6TG",
        "outputId": "29c1c278-30dc-4816-fb2f-ee7ee044914b"
      },
      "execution_count": null,
      "outputs": [
        {
          "output_type": "display_data",
          "data": {
            "text/plain": [
              "<Figure size 1728x576 with 1 Axes>"
            ],
            "image/png": "[encoded data removed]"
          },
          "metadata": {
            "needs_background": "light"
          }
        }
      ]
    },
    {
      "cell_type": "markdown",
      "source": [
        "# Coumpound bar chart"
      ],
      "metadata": {
        "id": "_Huq_T7uMKEM"
      }
    },
    {
      "cell_type": "code",
      "source": [
        "#find the frequency\n",
        "femalefq=female['day of accident'].groupby(female['day of accident']).count()\n",
        "femalefq\n",
        "malefq=male['day of accident'].groupby(male['day of accident']).count()\n",
        "malefq"
      ],
      "metadata": {
        "colab": {
          "base_uri": "https://localhost:8080/"
        },
        "id": "j4VsVOfDM5NF",
        "outputId": "9911e4d2-fa1b-493e-ed42-75dd4c47a086"
      },
      "execution_count": null,
      "outputs": [
        {
          "output_type": "execute_result",
          "data": {
            "text/plain": [
              "day of accident\n",
              "Friday        5\n",
              "Monday       17\n",
              "Saturday      6\n",
              "Sunday        6\n",
              "Thursday      3\n",
              "Tuesday      15\n",
              "Wednesday     4\n",
              "Name: day of accident, dtype: int64"
            ]
          },
          "metadata": {},
          "execution_count": 79
        }
      ]
    },
    {
      "cell_type": "code",
      "source": [
        "# bar chart\n",
        "import matplotlib.pyplot as plt\n",
        "plt.figure(figsize=(24,8))\n",
        "day = ['Monday', 'Tuesday', 'Wednesday', 'Thursday', 'Friday','Saturday','Sunday']\n",
        "femalefqtb = [femalefq['Monday'], femalefq['Tuesday'], femalefq['Wednesday'],femalefq['Thursday'], femalefq['Friday'],femalefq['Saturday'],femalefq['Sunday']]\n",
        "malefqtb = [malefq['Monday'], malefq['Tuesday'], malefq['Wednesday'],malefq['Thursday'], malefq['Friday'],malefq['Saturday'],malefq['Sunday']]\n",
        "\n",
        "X_axis = np.arange(len(day))\n",
        "\n",
        "plt.bar(X_axis-0.2,femalefqtb,0.4) #here -0.2 gives the x location of the bar, 0.4 is the width\n",
        "plt.bar(X_axis+0.2,malefqtb,0.4)\n",
        "plt.legend(['female','male'],fontsize=18)\n",
        "plt.xlabel('day of the week',fontsize=20)\n",
        "plt.ylabel('Frequency',fontsize=20)\n",
        "plt.xticks(fontsize=18)\n",
        "plt.yticks(fontsize=18)\n",
        "plt.show()"
      ],
      "metadata": {
        "colab": {
          "base_uri": "https://localhost:8080/",
          "height": 514
        },
        "id": "DqRJ_hDoM8HW",
        "outputId": "e1585f0d-b6c4-48b3-d656-65c244864203"
      },
      "execution_count": null,
      "outputs": [
        {
          "output_type": "display_data",
          "data": {
            "text/plain": [
              "<Figure size 1728x576 with 1 Axes>"
            ],
            "image/png": "[encoded data removed]"
          },
          "metadata": {
            "needs_background": "light"
          }
        }
      ]
    },
    {
      "cell_type": "markdown",
      "source": [
        "# Produce a pie chart"
      ],
      "metadata": {
        "id": "sQC80STLDyaR"
      }
    },
    {
      "cell_type": "code",
      "source": [
        "fig=plt.figure(figsize=(12,12))\n",
        "my_labels=[ 'Monday','Tuesday','Wednesday','Thursday','Friday','Saturday','Sunday']\n",
        "plt.pie(y_axis, labels=x_axis)\n",
        "plt.title('Pie chart for distribution for day of accident')"
      ],
      "metadata": {
        "id": "OovslSo2YP3G",
        "colab": {
          "base_uri": "https://localhost:8080/",
          "height": 883
        },
        "outputId": "98dfd6ef-5224-4675-c3e4-ecedaa3088d8"
      },
      "execution_count": null,
      "outputs": [
        {
          "output_type": "error",
          "ename": "AttributeError",
          "evalue": "ignored",
          "traceback": [
            "\u001b[0;31m---------------------------------------------------------------------------\u001b[0m",
            "\u001b[0;31mAttributeError\u001b[0m                            Traceback (most recent call last)",
            "\u001b[0;32m<ipython-input-60-3f2379d384a5>\u001b[0m in \u001b[0;36m<module>\u001b[0;34m\u001b[0m\n\u001b[1;32m      2\u001b[0m \u001b[0mmy_labels\u001b[0m\u001b[0;34m=\u001b[0m\u001b[0;34m[\u001b[0m \u001b[0;34m'Monday'\u001b[0m\u001b[0;34m,\u001b[0m\u001b[0;34m'Tuesday'\u001b[0m\u001b[0;34m,\u001b[0m\u001b[0;34m'Wednesday'\u001b[0m\u001b[0;34m,\u001b[0m\u001b[0;34m'Thursday'\u001b[0m\u001b[0;34m,\u001b[0m\u001b[0;34m'Friday'\u001b[0m\u001b[0;34m,\u001b[0m\u001b[0;34m'Saturday'\u001b[0m\u001b[0;34m,\u001b[0m\u001b[0;34m'Sunday'\u001b[0m\u001b[0;34m]\u001b[0m\u001b[0;34m\u001b[0m\u001b[0;34m\u001b[0m\u001b[0m\n\u001b[1;32m      3\u001b[0m \u001b[0mplt\u001b[0m\u001b[0;34m.\u001b[0m\u001b[0mpie\u001b[0m\u001b[0;34m(\u001b[0m\u001b[0my_axis\u001b[0m\u001b[0;34m,\u001b[0m \u001b[0mlabels\u001b[0m\u001b[0;34m=\u001b[0m\u001b[0mx_axis\u001b[0m\u001b[0;34m)\u001b[0m\u001b[0;34m\u001b[0m\u001b[0;34m\u001b[0m\u001b[0m\n\u001b[0;32m----> 4\u001b[0;31m \u001b[0mplt\u001b[0m\u001b[0;34m.\u001b[0m\u001b[0mlabels\u001b[0m\u001b[0;34m(\u001b[0m\u001b[0mfontsize\u001b[0m\u001b[0;34m=\u001b[0m\u001b[0;36m12\u001b[0m\u001b[0;34m)\u001b[0m\u001b[0;34m\u001b[0m\u001b[0;34m\u001b[0m\u001b[0m\n\u001b[0m\u001b[1;32m      5\u001b[0m \u001b[0mplt\u001b[0m\u001b[0;34m.\u001b[0m\u001b[0mtitle\u001b[0m\u001b[0;34m(\u001b[0m\u001b[0;34m'Pie chart for distribution for day of accident'\u001b[0m\u001b[0;34m)\u001b[0m\u001b[0;34m\u001b[0m\u001b[0;34m\u001b[0m\u001b[0m\n",
            "\u001b[0;31mAttributeError\u001b[0m: module 'matplotlib.pyplot' has no attribute 'labels'"
          ]
        },
        {
          "output_type": "display_data",
          "data": {
            "text/plain": [
              "<Figure size 864x864 with 1 Axes>"
            ],
            "image/png": "[encoded data removed]"
          },
          "metadata": {}
        }
      ]
    },
    {
      "cell_type": "code",
      "source": [],
      "metadata": {
        "id": "IqEOpDo9K81T"
      },
      "execution_count": null,
      "outputs": []
    }
  ]
}