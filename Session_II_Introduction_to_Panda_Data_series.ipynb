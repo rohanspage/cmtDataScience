{
  "cells": [
    {
      "cell_type": "markdown",
      "metadata": {
        "id": "view-in-github",
        "colab_type": "text"
      },
      "source": [
        "<a href=\"https://colab.research.google.com/github/srsq64/CMT-Data-Science/blob/main/Session_II_Introduction_to_Panda_Data_series.ipynb\" target=\"_parent\"><img src=\"https://colab.research.google.com/assets/colab-badge.svg\" alt=\"Open In Colab\"/></a>"
      ]
    },
    {
      "cell_type": "markdown",
      "id": "4aba1f0d",
      "metadata": {
        "id": "4aba1f0d"
      },
      "source": [
        "# **Learning outcome**"
      ]
    },
    {
      "cell_type": "markdown",
      "source": [
        "Jean Mathias, Foundation Programme, Durham University"
      ],
      "metadata": {
        "id": "kTNTbe7Pu5mW"
      },
      "id": "kTNTbe7Pu5mW"
    },
    {
      "cell_type": "markdown",
      "source": [
        "* Upload a dataframe.\n",
        "* Access data from a 1D array.\n",
        "* Simple arithmatic\n",
        "* Sampling"
      ],
      "metadata": {
        "id": "ad8d4800"
      },
      "id": "ad8d4800"
    },
    {
      "cell_type": "code",
      "execution_count": 1,
      "id": "414e3434",
      "metadata": {
        "id": "414e3434"
      },
      "outputs": [],
      "source": [
        "#First we import some packages (tools)\n",
        "import pandas as pd  #import pandas and call it pd\n",
        "import numpy as np   #import numpy and call it np\n",
        "import matplotlib.pyplot as plt\n",
        "\n",
        "%matplotlib inline"
      ]
    },
    {
      "cell_type": "markdown",
      "id": "c59dcd0b",
      "metadata": {
        "id": "c59dcd0b"
      },
      "source": [
        "# Input or Creat a series"
      ]
    },
    {
      "cell_type": "code",
      "source": [
        "#first upload file from GitHub\\\n",
        "#Click on the dataset in your repository, then click on View Raw. \n",
        "#Copy the link to the raw dataset and store it as a string variable called url in Colab as shown below (a cleaner method but it’s not necessary). \n",
        "#The last step is to load the url into Pandas read_csv to get the dataframe.\n",
        "url='https://raw.githubusercontent.com/srsq64/CMT-Data-Science/main/Avonford_cleaned.csv'\n",
        "cycling=pd.read_csv(url)\n",
        "cycling"
      ],
      "metadata": {
        "id": "xS7G1iZo8K5Y",
        "colab": {
          "base_uri": "https://localhost:8080/",
          "height": 520
        },
        "outputId": "409d0a54-6365-4c70-f655-268210ef3812"
      },
      "id": "xS7G1iZo8K5Y",
      "execution_count": 2,
      "outputs": [
        {
          "output_type": "execute_result",
          "data": {
            "text/plain": [
              "   first name last name gender   age distance from home  \\\n",
              "0      Sharon   Griffin      f   7.0               75 m   \n",
              "1        Fred    Fuller      m   6.0                20m   \n",
              "2       Seren     Maher      f  16.0                20m   \n",
              "3       James     Moore      m  20.0                2km   \n",
              "4      Claire   Higgins      f  19.0              10 km   \n",
              "..        ...       ...    ...   ...                ...   \n",
              "84  Alexander    Duggan      m  34.0          0.5 miles   \n",
              "85       Cath    Pickin      f  16.0          half mile   \n",
              "86       John     Smith      m  45.0               3 km   \n",
              "87    Shelley      Mann      f  21.0               50m    \n",
              "88       Luke    Murphy      m  20.0            3 miles   \n",
              "\n",
              "                       cause                           injuries  \\\n",
              "0            uneven pavement                         broken leg   \n",
              "1                  fell over                         concussion   \n",
              "2                   hit kerb                   dislocated elbow   \n",
              "3        trying to fix chain           partially severed finger   \n",
              "4   hit by car at roundabout   fractured arm and sprained wrist   \n",
              "..                       ...                                ...   \n",
              "84             brakes failed                         concussion   \n",
              "85          puncture by nail                   abrasions on leg   \n",
              "86                      skid                         concussion   \n",
              "87     slipped on wet leaves  deep cuts to legs, strained wrist   \n",
              "88            messing around                         broken arm   \n",
              "\n",
              "    overnights in hospital time of accident  Time of accident numerical  \\\n",
              "0                        1             2:35                        2.58   \n",
              "1                        1             3:15                        3.25   \n",
              "2                        0             7:00                        7.00   \n",
              "3                        0             7:00                        7.00   \n",
              "4                        0             7:45                        7.75   \n",
              "..                     ...              ...                         ...   \n",
              "84                       0            19:30                       19.50   \n",
              "85                       0            19:30                       19.50   \n",
              "86                       0            19:45                       19.75   \n",
              "87                       0            21:00                       21.00   \n",
              "88                       0            22:00                       22.00   \n",
              "\n",
              "   day of accident month of accident  Officer reporting wearing a helmet?  \n",
              "0         Saturday               May              45211                 y  \n",
              "1           Sunday         September              39813                 y  \n",
              "2        Wednesday          November              78264                 n  \n",
              "3           Monday              June              97655                 n  \n",
              "4           Monday          February              78264                 y  \n",
              "..             ...               ...                ...               ...  \n",
              "84          Monday           January              39813                 n  \n",
              "85         Tuesday          February              79655                 y  \n",
              "86         Tuesday               May              78264                 y  \n",
              "87          Friday           January              97655                 y  \n",
              "88        Saturday             April              78264                 y  \n",
              "\n",
              "[89 rows x 14 columns]"
            ],
            "text/html": [
              "\n",
              "  <div id=\"df-93dacb41-1a13-483d-989b-4669e6725829\">\n",
              "    <div class=\"colab-df-container\">\n",
              "      <div>\n",
              "<style scoped>\n",
              "    .dataframe tbody tr th:only-of-type {\n",
              "        vertical-align: middle;\n",
              "    }\n",
              "\n",
              "    .dataframe tbody tr th {\n",
              "        vertical-align: top;\n",
              "    }\n",
              "\n",
              "    .dataframe thead th {\n",
              "        text-align: right;\n",
              "    }\n",
              "</style>\n",
              "<table border=\"1\" class=\"dataframe\">\n",
              "  <thead>\n",
              "    <tr style=\"text-align: right;\">\n",
              "      <th></th>\n",
              "      <th>first name</th>\n",
              "      <th>last name</th>\n",
              "      <th>gender</th>\n",
              "      <th>age</th>\n",
              "      <th>distance from home</th>\n",
              "      <th>cause</th>\n",
              "      <th>injuries</th>\n",
              "      <th>overnights in hospital</th>\n",
              "      <th>time of accident</th>\n",
              "      <th>Time of accident numerical</th>\n",
              "      <th>day of accident</th>\n",
              "      <th>month of accident</th>\n",
              "      <th>Officer reporting</th>\n",
              "      <th>wearing a helmet?</th>\n",
              "    </tr>\n",
              "  </thead>\n",
              "  <tbody>\n",
              "    <tr>\n",
              "      <th>0</th>\n",
              "      <td>Sharon</td>\n",
              "      <td>Griffin</td>\n",
              "      <td>f</td>\n",
              "      <td>7.0</td>\n",
              "      <td>75 m</td>\n",
              "      <td>uneven pavement</td>\n",
              "      <td>broken leg</td>\n",
              "      <td>1</td>\n",
              "      <td>2:35</td>\n",
              "      <td>2.58</td>\n",
              "      <td>Saturday</td>\n",
              "      <td>May</td>\n",
              "      <td>45211</td>\n",
              "      <td>y</td>\n",
              "    </tr>\n",
              "    <tr>\n",
              "      <th>1</th>\n",
              "      <td>Fred</td>\n",
              "      <td>Fuller</td>\n",
              "      <td>m</td>\n",
              "      <td>6.0</td>\n",
              "      <td>20m</td>\n",
              "      <td>fell over</td>\n",
              "      <td>concussion</td>\n",
              "      <td>1</td>\n",
              "      <td>3:15</td>\n",
              "      <td>3.25</td>\n",
              "      <td>Sunday</td>\n",
              "      <td>September</td>\n",
              "      <td>39813</td>\n",
              "      <td>y</td>\n",
              "    </tr>\n",
              "    <tr>\n",
              "      <th>2</th>\n",
              "      <td>Seren</td>\n",
              "      <td>Maher</td>\n",
              "      <td>f</td>\n",
              "      <td>16.0</td>\n",
              "      <td>20m</td>\n",
              "      <td>hit kerb</td>\n",
              "      <td>dislocated elbow</td>\n",
              "      <td>0</td>\n",
              "      <td>7:00</td>\n",
              "      <td>7.00</td>\n",
              "      <td>Wednesday</td>\n",
              "      <td>November</td>\n",
              "      <td>78264</td>\n",
              "      <td>n</td>\n",
              "    </tr>\n",
              "    <tr>\n",
              "      <th>3</th>\n",
              "      <td>James</td>\n",
              "      <td>Moore</td>\n",
              "      <td>m</td>\n",
              "      <td>20.0</td>\n",
              "      <td>2km</td>\n",
              "      <td>trying to fix chain</td>\n",
              "      <td>partially severed finger</td>\n",
              "      <td>0</td>\n",
              "      <td>7:00</td>\n",
              "      <td>7.00</td>\n",
              "      <td>Monday</td>\n",
              "      <td>June</td>\n",
              "      <td>97655</td>\n",
              "      <td>n</td>\n",
              "    </tr>\n",
              "    <tr>\n",
              "      <th>4</th>\n",
              "      <td>Claire</td>\n",
              "      <td>Higgins</td>\n",
              "      <td>f</td>\n",
              "      <td>19.0</td>\n",
              "      <td>10 km</td>\n",
              "      <td>hit by car at roundabout</td>\n",
              "      <td>fractured arm and sprained wrist</td>\n",
              "      <td>0</td>\n",
              "      <td>7:45</td>\n",
              "      <td>7.75</td>\n",
              "      <td>Monday</td>\n",
              "      <td>February</td>\n",
              "      <td>78264</td>\n",
              "      <td>y</td>\n",
              "    </tr>\n",
              "    <tr>\n",
              "      <th>...</th>\n",
              "      <td>...</td>\n",
              "      <td>...</td>\n",
              "      <td>...</td>\n",
              "      <td>...</td>\n",
              "      <td>...</td>\n",
              "      <td>...</td>\n",
              "      <td>...</td>\n",
              "      <td>...</td>\n",
              "      <td>...</td>\n",
              "      <td>...</td>\n",
              "      <td>...</td>\n",
              "      <td>...</td>\n",
              "      <td>...</td>\n",
              "      <td>...</td>\n",
              "    </tr>\n",
              "    <tr>\n",
              "      <th>84</th>\n",
              "      <td>Alexander</td>\n",
              "      <td>Duggan</td>\n",
              "      <td>m</td>\n",
              "      <td>34.0</td>\n",
              "      <td>0.5 miles</td>\n",
              "      <td>brakes failed</td>\n",
              "      <td>concussion</td>\n",
              "      <td>0</td>\n",
              "      <td>19:30</td>\n",
              "      <td>19.50</td>\n",
              "      <td>Monday</td>\n",
              "      <td>January</td>\n",
              "      <td>39813</td>\n",
              "      <td>n</td>\n",
              "    </tr>\n",
              "    <tr>\n",
              "      <th>85</th>\n",
              "      <td>Cath</td>\n",
              "      <td>Pickin</td>\n",
              "      <td>f</td>\n",
              "      <td>16.0</td>\n",
              "      <td>half mile</td>\n",
              "      <td>puncture by nail</td>\n",
              "      <td>abrasions on leg</td>\n",
              "      <td>0</td>\n",
              "      <td>19:30</td>\n",
              "      <td>19.50</td>\n",
              "      <td>Tuesday</td>\n",
              "      <td>February</td>\n",
              "      <td>79655</td>\n",
              "      <td>y</td>\n",
              "    </tr>\n",
              "    <tr>\n",
              "      <th>86</th>\n",
              "      <td>John</td>\n",
              "      <td>Smith</td>\n",
              "      <td>m</td>\n",
              "      <td>45.0</td>\n",
              "      <td>3 km</td>\n",
              "      <td>skid</td>\n",
              "      <td>concussion</td>\n",
              "      <td>0</td>\n",
              "      <td>19:45</td>\n",
              "      <td>19.75</td>\n",
              "      <td>Tuesday</td>\n",
              "      <td>May</td>\n",
              "      <td>78264</td>\n",
              "      <td>y</td>\n",
              "    </tr>\n",
              "    <tr>\n",
              "      <th>87</th>\n",
              "      <td>Shelley</td>\n",
              "      <td>Mann</td>\n",
              "      <td>f</td>\n",
              "      <td>21.0</td>\n",
              "      <td>50m</td>\n",
              "      <td>slipped on wet leaves</td>\n",
              "      <td>deep cuts to legs, strained wrist</td>\n",
              "      <td>0</td>\n",
              "      <td>21:00</td>\n",
              "      <td>21.00</td>\n",
              "      <td>Friday</td>\n",
              "      <td>January</td>\n",
              "      <td>97655</td>\n",
              "      <td>y</td>\n",
              "    </tr>\n",
              "    <tr>\n",
              "      <th>88</th>\n",
              "      <td>Luke</td>\n",
              "      <td>Murphy</td>\n",
              "      <td>m</td>\n",
              "      <td>20.0</td>\n",
              "      <td>3 miles</td>\n",
              "      <td>messing around</td>\n",
              "      <td>broken arm</td>\n",
              "      <td>0</td>\n",
              "      <td>22:00</td>\n",
              "      <td>22.00</td>\n",
              "      <td>Saturday</td>\n",
              "      <td>April</td>\n",
              "      <td>78264</td>\n",
              "      <td>y</td>\n",
              "    </tr>\n",
              "  </tbody>\n",
              "</table>\n",
              "<p>89 rows × 14 columns</p>\n",
              "</div>\n",
              "      <button class=\"colab-df-convert\" onclick=\"convertToInteractive('df-93dacb41-1a13-483d-989b-4669e6725829')\"\n",
              "              title=\"Convert this dataframe to an interactive table.\"\n",
              "              style=\"display:none;\">\n",
              "        \n",
              "  <svg xmlns=\"http://www.w3.org/2000/svg\" height=\"24px\"viewBox=\"0 0 24 24\"\n",
              "       width=\"24px\">\n",
              "    <path d=\"M0 0h24v24H0V0z\" fill=\"none\"/>\n",
              "    <path d=\"M18.56 5.44l.94 2.06.94-2.06 2.06-.94-2.06-.94-.94-2.06-.94 2.06-2.06.94zm-11 1L8.5 8.5l.94-2.06 2.06-.94-2.06-.94L8.5 2.5l-.94 2.06-2.06.94zm10 10l.94 2.06.94-2.06 2.06-.94-2.06-.94-.94-2.06-.94 2.06-2.06.94z\"/><path d=\"M17.41 7.96l-1.37-1.37c-.4-.4-.92-.59-1.43-.59-.52 0-1.04.2-1.43.59L10.3 9.45l-7.72 7.72c-.78.78-.78 2.05 0 2.83L4 21.41c.39.39.9.59 1.41.59.51 0 1.02-.2 1.41-.59l7.78-7.78 2.81-2.81c.8-.78.8-2.07 0-2.86zM5.41 20L4 18.59l7.72-7.72 1.47 1.35L5.41 20z\"/>\n",
              "  </svg>\n",
              "      </button>\n",
              "      \n",
              "  <style>\n",
              "    .colab-df-container {\n",
              "      display:flex;\n",
              "      flex-wrap:wrap;\n",
              "      gap: 12px;\n",
              "    }\n",
              "\n",
              "    .colab-df-convert {\n",
              "      background-color: #E8F0FE;\n",
              "      border: none;\n",
              "      border-radius: 50%;\n",
              "      cursor: pointer;\n",
              "      display: none;\n",
              "      fill: #1967D2;\n",
              "      height: 32px;\n",
              "      padding: 0 0 0 0;\n",
              "      width: 32px;\n",
              "    }\n",
              "\n",
              "    .colab-df-convert:hover {\n",
              "      background-color: #E2EBFA;\n",
              "      box-shadow: 0px 1px 2px rgba(60, 64, 67, 0.3), 0px 1px 3px 1px rgba(60, 64, 67, 0.15);\n",
              "      fill: #174EA6;\n",
              "    }\n",
              "\n",
              "    [theme=dark] .colab-df-convert {\n",
              "      background-color: #3B4455;\n",
              "      fill: #D2E3FC;\n",
              "    }\n",
              "\n",
              "    [theme=dark] .colab-df-convert:hover {\n",
              "      background-color: #434B5C;\n",
              "      box-shadow: 0px 1px 3px 1px rgba(0, 0, 0, 0.15);\n",
              "      filter: drop-shadow(0px 1px 2px rgba(0, 0, 0, 0.3));\n",
              "      fill: #FFFFFF;\n",
              "    }\n",
              "  </style>\n",
              "\n",
              "      <script>\n",
              "        const buttonEl =\n",
              "          document.querySelector('#df-93dacb41-1a13-483d-989b-4669e6725829 button.colab-df-convert');\n",
              "        buttonEl.style.display =\n",
              "          google.colab.kernel.accessAllowed ? 'block' : 'none';\n",
              "\n",
              "        async function convertToInteractive(key) {\n",
              "          const element = document.querySelector('#df-93dacb41-1a13-483d-989b-4669e6725829');\n",
              "          const dataTable =\n",
              "            await google.colab.kernel.invokeFunction('convertToInteractive',\n",
              "                                                     [key], {});\n",
              "          if (!dataTable) return;\n",
              "\n",
              "          const docLinkHtml = 'Like what you see? Visit the ' +\n",
              "            '<a target=\"_blank\" href=https://colab.research.google.com/notebooks/data_table.ipynb>data table notebook</a>'\n",
              "            + ' to learn more about interactive tables.';\n",
              "          element.innerHTML = '';\n",
              "          dataTable['output_type'] = 'display_data';\n",
              "          await google.colab.output.renderOutput(dataTable, element);\n",
              "          const docLink = document.createElement('div');\n",
              "          docLink.innerHTML = docLinkHtml;\n",
              "          element.appendChild(docLink);\n",
              "        }\n",
              "      </script>\n",
              "    </div>\n",
              "  </div>\n",
              "  "
            ]
          },
          "metadata": {},
          "execution_count": 2
        }
      ]
    },
    {
      "cell_type": "code",
      "source": [
        "cycling.info() #Here the data we imported is as dataframe that has rows and columns"
      ],
      "metadata": {
        "id": "7wn801Ht9GHT",
        "colab": {
          "base_uri": "https://localhost:8080/",
          "height": 0
        },
        "outputId": "9e2d424b-2209-4225-81ae-82bd358beee8"
      },
      "id": "7wn801Ht9GHT",
      "execution_count": 3,
      "outputs": [
        {
          "output_type": "stream",
          "name": "stdout",
          "text": [
            "<class 'pandas.core.frame.DataFrame'>\n",
            "RangeIndex: 89 entries, 0 to 88\n",
            "Data columns (total 14 columns):\n",
            " #   Column                      Non-Null Count  Dtype  \n",
            "---  ------                      --------------  -----  \n",
            " 0   first name                  89 non-null     object \n",
            " 1   last name                   89 non-null     object \n",
            " 2   gender                      89 non-null     object \n",
            " 3   age                         89 non-null     float64\n",
            " 4   distance from home          89 non-null     object \n",
            " 5   cause                       89 non-null     object \n",
            " 6   injuries                    89 non-null     object \n",
            " 7   overnights in hospital      89 non-null     int64  \n",
            " 8   time of accident            89 non-null     object \n",
            " 9   Time of accident numerical  89 non-null     float64\n",
            " 10  day of accident             89 non-null     object \n",
            " 11  month of accident           89 non-null     object \n",
            " 12  Officer reporting           89 non-null     int64  \n",
            " 13  wearing a helmet?           89 non-null     object \n",
            "dtypes: float64(2), int64(2), object(10)\n",
            "memory usage: 9.9+ KB\n"
          ]
        }
      ]
    },
    {
      "cell_type": "code",
      "source": [
        "age=cycling['age']  #Here we extraced a column as data series\n",
        "age"
      ],
      "metadata": {
        "colab": {
          "base_uri": "https://localhost:8080/",
          "height": 0
        },
        "id": "W0OQUvY6wcOn",
        "outputId": "fe953d27-ade6-4ecc-af3c-2f25b0262a87"
      },
      "id": "W0OQUvY6wcOn",
      "execution_count": 7,
      "outputs": [
        {
          "output_type": "execute_result",
          "data": {
            "text/plain": [
              "0      7.0\n",
              "1      6.0\n",
              "2     16.0\n",
              "3     20.0\n",
              "4     19.0\n",
              "      ... \n",
              "84    34.0\n",
              "85    16.0\n",
              "86    45.0\n",
              "87    21.0\n",
              "88    20.0\n",
              "Name: age, Length: 89, dtype: float64"
            ]
          },
          "metadata": {},
          "execution_count": 7
        }
      ]
    },
    {
      "cell_type": "code",
      "source": [
        "age.shape"
      ],
      "metadata": {
        "colab": {
          "base_uri": "https://localhost:8080/",
          "height": 0
        },
        "id": "44zHD2e4ww6P",
        "outputId": "5481d044-c761-4184-d130-a3b26bbb8aa2"
      },
      "id": "44zHD2e4ww6P",
      "execution_count": 13,
      "outputs": [
        {
          "output_type": "execute_result",
          "data": {
            "text/plain": [
              "(89,)"
            ]
          },
          "metadata": {},
          "execution_count": 13
        }
      ]
    },
    {
      "cell_type": "markdown",
      "source": [
        "# Some basic airthematic"
      ],
      "metadata": {
        "id": "Aqilph4VCqRe"
      },
      "id": "Aqilph4VCqRe"
    },
    {
      "cell_type": "code",
      "source": [
        "A=2*age\n",
        "B=age-10\n",
        "print(A)\n",
        "print(B)"
      ],
      "metadata": {
        "colab": {
          "base_uri": "https://localhost:8080/",
          "height": 0
        },
        "id": "HmdbLloOB76u",
        "outputId": "5bf7bfa8-3a0f-4292-e90a-973dc4cbcc4d"
      },
      "id": "HmdbLloOB76u",
      "execution_count": 18,
      "outputs": [
        {
          "output_type": "stream",
          "name": "stdout",
          "text": [
            "0     14.0\n",
            "1     12.0\n",
            "2     32.0\n",
            "3     40.0\n",
            "4     38.0\n",
            "      ... \n",
            "84    68.0\n",
            "85    32.0\n",
            "86    90.0\n",
            "87    42.0\n",
            "88    40.0\n",
            "Name: age, Length: 89, dtype: float64\n",
            "0     -3.0\n",
            "1     -4.0\n",
            "2      6.0\n",
            "3     10.0\n",
            "4      9.0\n",
            "      ... \n",
            "84    24.0\n",
            "85     6.0\n",
            "86    35.0\n",
            "87    11.0\n",
            "88    10.0\n",
            "Name: age, Length: 89, dtype: float64\n"
          ]
        }
      ]
    },
    {
      "cell_type": "markdown",
      "source": [
        "# Access data "
      ],
      "metadata": {
        "id": "5ifgQq59Catz"
      },
      "id": "5ifgQq59Catz"
    },
    {
      "cell_type": "code",
      "source": [
        "age.index  #This shows the range of index, from 0 to 88 inclusive."
      ],
      "metadata": {
        "colab": {
          "base_uri": "https://localhost:8080/",
          "height": 0
        },
        "id": "jx61w3SEMHVw",
        "outputId": "74d35ad5-4680-49d4-92e2-160c42885120"
      },
      "id": "jx61w3SEMHVw",
      "execution_count": 17,
      "outputs": [
        {
          "output_type": "execute_result",
          "data": {
            "text/plain": [
              "RangeIndex(start=0, stop=89, step=1)"
            ]
          },
          "metadata": {},
          "execution_count": 17
        }
      ]
    },
    {
      "cell_type": "code",
      "source": [
        "C=age[1]\n",
        "C"
      ],
      "metadata": {
        "colab": {
          "base_uri": "https://localhost:8080/",
          "height": 0
        },
        "id": "gJhwiDceCick",
        "outputId": "23980b93-7699-4dcc-ebaf-c864ab34db7d"
      },
      "id": "gJhwiDceCick",
      "execution_count": 21,
      "outputs": [
        {
          "output_type": "execute_result",
          "data": {
            "text/plain": [
              "6.0"
            ]
          },
          "metadata": {},
          "execution_count": 21
        }
      ]
    },
    {
      "cell_type": "code",
      "source": [
        "d=age.iloc[0] # you can also using item location 0, 1, 2...\n",
        "d"
      ],
      "metadata": {
        "colab": {
          "base_uri": "https://localhost:8080/",
          "height": 0
        },
        "id": "cTZa684bMhMo",
        "outputId": "da4e2eea-d4d2-4c02-f381-626b8a327068"
      },
      "id": "cTZa684bMhMo",
      "execution_count": 22,
      "outputs": [
        {
          "output_type": "execute_result",
          "data": {
            "text/plain": [
              "7.0"
            ]
          },
          "metadata": {},
          "execution_count": 22
        }
      ]
    },
    {
      "cell_type": "code",
      "source": [
        "e=age.iloc[-1]  #-1 is the last item in the list\n",
        "e"
      ],
      "metadata": {
        "colab": {
          "base_uri": "https://localhost:8080/",
          "height": 0
        },
        "id": "Y7Qqu-MFM22a",
        "outputId": "79aeed2c-bc9d-4a23-c69e-dccbd7189d0c"
      },
      "id": "Y7Qqu-MFM22a",
      "execution_count": 23,
      "outputs": [
        {
          "output_type": "execute_result",
          "data": {
            "text/plain": [
              "20.0"
            ]
          },
          "metadata": {},
          "execution_count": 23
        }
      ]
    },
    {
      "cell_type": "code",
      "source": [
        "f=age[:5] # This is to access the firts five numbers\n",
        "f"
      ],
      "metadata": {
        "colab": {
          "base_uri": "https://localhost:8080/",
          "height": 0
        },
        "id": "L-W4RpJCOA4o",
        "outputId": "b2076c9b-70b2-4fa4-e0d4-bb5d4d2f02e5"
      },
      "id": "L-W4RpJCOA4o",
      "execution_count": 24,
      "outputs": [
        {
          "output_type": "execute_result",
          "data": {
            "text/plain": [
              "0     7.0\n",
              "1     6.0\n",
              "2    16.0\n",
              "3    20.0\n",
              "4    19.0\n",
              "Name: Age, dtype: float64"
            ]
          },
          "metadata": {},
          "execution_count": 24
        }
      ]
    },
    {
      "cell_type": "code",
      "source": [
        "g=age[2:5] # This is to access the numbers from index 2 to 4\n",
        "g"
      ],
      "metadata": {
        "colab": {
          "base_uri": "https://localhost:8080/",
          "height": 0
        },
        "id": "fKxqtUMPOWB5",
        "outputId": "ba14db01-deaa-40ef-caad-28ca56772b0d"
      },
      "id": "fKxqtUMPOWB5",
      "execution_count": 25,
      "outputs": [
        {
          "output_type": "execute_result",
          "data": {
            "text/plain": [
              "2    16.0\n",
              "3    20.0\n",
              "4    19.0\n",
              "Name: Age, dtype: float64"
            ]
          },
          "metadata": {},
          "execution_count": 25
        }
      ]
    },
    {
      "cell_type": "code",
      "source": [
        "h=age.iloc[-5:-1]\n",
        "h"
      ],
      "metadata": {
        "colab": {
          "base_uri": "https://localhost:8080/",
          "height": 0
        },
        "id": "UqsHiEiUOm4R",
        "outputId": "4de3fc4c-e55d-48c0-a436-612d8af01dc2"
      },
      "id": "UqsHiEiUOm4R",
      "execution_count": 26,
      "outputs": [
        {
          "output_type": "execute_result",
          "data": {
            "text/plain": [
              "84    34.0\n",
              "85    16.0\n",
              "86    45.0\n",
              "87    21.0\n",
              "Name: Age, dtype: float64"
            ]
          },
          "metadata": {},
          "execution_count": 26
        }
      ]
    },
    {
      "cell_type": "markdown",
      "source": [
        "# Sampling methods"
      ],
      "metadata": {
        "id": "Ie8aHmC5QG_7"
      },
      "id": "Ie8aHmC5QG_7"
    },
    {
      "cell_type": "code",
      "source": [
        "s1=age.sample() # This gives a randomly chosen number\n",
        "print(s1)"
      ],
      "metadata": {
        "colab": {
          "base_uri": "https://localhost:8080/",
          "height": 0
        },
        "id": "fUSqZ6CxQLpb",
        "outputId": "7076ff54-234e-428b-f4d5-77e1f3f3d9ad"
      },
      "id": "fUSqZ6CxQLpb",
      "execution_count": 27,
      "outputs": [
        {
          "output_type": "stream",
          "name": "stdout",
          "text": [
            "5    52.0\n",
            "Name: Age, dtype: float64\n"
          ]
        }
      ]
    },
    {
      "cell_type": "code",
      "source": [
        "s2=age.sample(n=5) # This gives the defined number of randomly chosen samples\n",
        "print(s2)"
      ],
      "metadata": {
        "colab": {
          "base_uri": "https://localhost:8080/",
          "height": 0
        },
        "id": "RcbKWsrLRGxq",
        "outputId": "e51b4590-d136-4ea4-d50f-673219911bb8"
      },
      "id": "RcbKWsrLRGxq",
      "execution_count": 28,
      "outputs": [
        {
          "output_type": "stream",
          "name": "stdout",
          "text": [
            "57    66.0\n",
            "28    13.0\n",
            "67     9.0\n",
            "60    11.0\n",
            "65    12.0\n",
            "Name: Age, dtype: float64\n"
          ]
        }
      ]
    },
    {
      "cell_type": "code",
      "source": [
        "s3=age.sample(frac=0.1) # morelike stretified, give a sample of 10% of total \n",
        "s3"
      ],
      "metadata": {
        "colab": {
          "base_uri": "https://localhost:8080/",
          "height": 0
        },
        "id": "39Uj-EMpQbAJ",
        "outputId": "59658eeb-7427-492c-9736-cdf069e88add"
      },
      "id": "39Uj-EMpQbAJ",
      "execution_count": 29,
      "outputs": [
        {
          "output_type": "execute_result",
          "data": {
            "text/plain": [
              "27     5.0\n",
              "37     9.0\n",
              "9     15.0\n",
              "61    61.0\n",
              "83    37.0\n",
              "53    16.0\n",
              "17    64.0\n",
              "14    22.0\n",
              "30     9.0\n",
              "Name: Age, dtype: float64"
            ]
          },
          "metadata": {},
          "execution_count": 29
        }
      ]
    },
    {
      "cell_type": "code",
      "source": [
        "s4=age[age<18] #This give all the samples that age<18\n",
        "s4"
      ],
      "metadata": {
        "id": "zLMAMdP1RcUD",
        "colab": {
          "base_uri": "https://localhost:8080/",
          "height": 0
        },
        "outputId": "bde7929f-e63b-470a-acbd-51ec47d74f6b"
      },
      "id": "zLMAMdP1RcUD",
      "execution_count": 31,
      "outputs": [
        {
          "output_type": "execute_result",
          "data": {
            "text/plain": [
              "0      7.0\n",
              "1      6.0\n",
              "2     16.0\n",
              "7     10.0\n",
              "8     17.0\n",
              "9     15.0\n",
              "12    14.0\n",
              "13    13.0\n",
              "21    15.0\n",
              "27     5.0\n",
              "28    13.0\n",
              "30     9.0\n",
              "33     8.5\n",
              "34     8.0\n",
              "36    12.0\n",
              "37     9.0\n",
              "47     6.5\n",
              "50     7.0\n",
              "51     9.0\n",
              "52     9.0\n",
              "53    16.0\n",
              "54    15.0\n",
              "55    11.0\n",
              "59    10.0\n",
              "60    11.0\n",
              "64    17.0\n",
              "65    12.0\n",
              "67     9.0\n",
              "69    13.0\n",
              "76    16.0\n",
              "77    10.0\n",
              "78     7.0\n",
              "79    14.0\n",
              "85    16.0\n",
              "Name: Age, dtype: float64"
            ]
          },
          "metadata": {},
          "execution_count": 31
        }
      ]
    },
    {
      "cell_type": "code",
      "source": [
        "rate=5\n",
        "s5=age[::rate] #This is close to systermatic sampling with evey 5 interval, always start from index=0\n",
        "s5"
      ],
      "metadata": {
        "colab": {
          "base_uri": "https://localhost:8080/",
          "height": 0
        },
        "id": "AwDMs3WISH39",
        "outputId": "c47309e5-45d3-4cb3-c9cc-b8fffb034dbc"
      },
      "id": "AwDMs3WISH39",
      "execution_count": 32,
      "outputs": [
        {
          "output_type": "execute_result",
          "data": {
            "text/plain": [
              "0      7.0\n",
              "5     52.0\n",
              "10    60.0\n",
              "15    23.0\n",
              "20    25.0\n",
              "25    36.0\n",
              "30     9.0\n",
              "35    52.0\n",
              "40    26.0\n",
              "45    34.0\n",
              "50     7.0\n",
              "55    11.0\n",
              "60    11.0\n",
              "65    12.0\n",
              "70    18.0\n",
              "75    62.0\n",
              "80    32.0\n",
              "85    16.0\n",
              "Name: Age, dtype: float64"
            ]
          },
          "metadata": {},
          "execution_count": 32
        }
      ]
    },
    {
      "cell_type": "code",
      "source": [],
      "metadata": {
        "id": "6_SVWbrzSk3r"
      },
      "id": "6_SVWbrzSk3r",
      "execution_count": null,
      "outputs": []
    }
  ],
  "metadata": {
    "kernelspec": {
      "display_name": "Python 3",
      "language": "python",
      "name": "python3"
    },
    "language_info": {
      "codemirror_mode": {
        "name": "ipython",
        "version": 3
      },
      "file_extension": ".py",
      "mimetype": "text/x-python",
      "name": "python",
      "nbconvert_exporter": "python",
      "pygments_lexer": "ipython3",
      "version": "3.8.10"
    },
    "colab": {
      "provenance": [],
      "include_colab_link": true
    }
  },
  "nbformat": 4,
  "nbformat_minor": 5
}